{
  "cells": [
    {
      "cell_type": "markdown",
      "metadata": {
        "id": "view-in-github",
        "colab_type": "text"
      },
      "source": [
        "<a href=\"https://colab.research.google.com/github/eyalgur1/Asynchronous_ToA_Source_Localization/blob/main/phase2_vectorized.ipynb\" target=\"_parent\"><img src=\"https://colab.research.google.com/assets/colab-badge.svg\" alt=\"Open In Colab\"/></a>"
      ]
    },
    {
      "cell_type": "markdown",
      "metadata": {
        "id": "tIpdU0pFMPEx"
      },
      "source": [
        "#### **Set Up Environment**"
      ]
    },
    {
      "cell_type": "code",
      "execution_count": null,
      "metadata": {
        "id": "Jj5HvbFZjG3L"
      },
      "outputs": [],
      "source": [
        "import cvxpy as cp\n",
        "import numpy as np\n",
        "from matplotlib import pyplot as plt\n",
        "import pandas as pd\n",
        "from scipy import sparse"
      ]
    },
    {
      "cell_type": "code",
      "execution_count": null,
      "metadata": {
        "colab": {
          "background_save": true,
          "base_uri": "https://localhost:8080/"
        },
        "id": "aF87R3dARE9K",
        "outputId": "647cc633-fa7c-4db6-c56b-17457d67eb8b"
      },
      "outputs": [
        {
          "name": "stdout",
          "output_type": "stream",
          "text": [
            "Drive already mounted at /content/drive/; to attempt to forcibly remount, call drive.mount(\"/content/drive/\", force_remount=True).\n"
          ]
        }
      ],
      "source": [
        "# only for first run, when running through Google Drive\n",
        "from google.colab import drive\n",
        "drive.mount(\"/content/drive/\")"
      ]
    },
    {
      "cell_type": "code",
      "execution_count": null,
      "metadata": {
        "colab": {
          "background_save": true
        },
        "id": "GNLH3XK7LGBQ"
      },
      "outputs": [],
      "source": [
        "import pickle\n",
        "\n",
        "# Define a function to save all variables\n",
        "def save_variables(filename):\n",
        "\n",
        "    # Create a dictionary containing only the variables we want to save\n",
        "    variables_to_save = {\n",
        "        'trains': trains,\n",
        "        'MGs': MGs,\n",
        "        'TrainLoad': TrainLoad,\n",
        "        'REG2TrainESS': REG2TrainESS,\n",
        "        'TrainAtMG': TrainAtMG,\n",
        "        'TrainCycle': TrainCycle,\n",
        "        'GRIDprice': GRIDprice,\n",
        "        'PVprod': PVprod,\n",
        "        'T': T,\n",
        "        'TrainESSdischargeMAX': TrainESSdischargeMAX,\n",
        "        'TrainESSchargeMAX': TrainESSchargeMAX,\n",
        "        'TrainESSchargeLoss': TrainESSchargeLoss,\n",
        "        'TrainESSdischargeLoss': TrainESSdischargeLoss,\n",
        "        'TrainESSmin': TrainESSmin,\n",
        "        'TrainESScap': TrainESScap,\n",
        "        'MGESSchargeMAX_ratio': MGESSchargeMAX_ratio,\n",
        "        'MGESSdischargeMAX_ratio': MGESSdischargeMAX_ratio,\n",
        "        'MGESSchargeLoss': MGESSchargeLoss,\n",
        "        'MGESSdischargeLoss': MGESSdischargeLoss,\n",
        "        'MGESSmin': MGESSmin,\n",
        "        'MGESScapMAX': MGESScapMAX,\n",
        "        'PVprod': PVprod,\n",
        "        'PVcapMAX': PVcapMAX,\n",
        "        'GRIDprod': GRIDprod,\n",
        "        'GRIDprice': GRIDprice,\n",
        "        'PVmaintCoeff': PVmaintCoeff,\n",
        "        'MGESSmaintCoeff': MGESSmaintCoeff,\n",
        "        'MG2TrainMAX': MG2TrainMAX,\n",
        "        'PVcost': PVcost,\n",
        "        'MGESScost': MGESScost,\n",
        "        'CostsCoeff': CostsCoeff,\n",
        "        'TrainLoad': TrainLoad,\n",
        "        'REG2TrainESS': REG2TrainESS,\n",
        "        'MGESSsocInit_ratio': MGESSsocInit_ratio,\n",
        "        'TrainESSsocInit': TrainESSsocInit,\n",
        "        'solver': solver,\n",
        "        'GRID_MGs': GRID_MGs,\n",
        "        'num_trains': num_trains,\n",
        "        'num_MGs': num_MGs,\n",
        "    }\n",
        "\n",
        "    # Save the variables using pickle\n",
        "    with open(filename, 'wb') as f:\n",
        "        pickle.dump(variables_to_save, f)\n",
        "\n",
        "\n",
        "def load_variables(filename):\n",
        "    with open(filename, 'rb') as f:\n",
        "        # Load the variables from the file\n",
        "        loaded_variables = pickle.load(f)\n",
        "        # Update the current global scope with the loaded variables\n",
        "        globals().update(loaded_variables)"
      ]
    },
    {
      "cell_type": "markdown",
      "metadata": {
        "id": "Se_LoibzvQis"
      },
      "source": [
        "#### **Auxiliary Functions**"
      ]
    },
    {
      "cell_type": "code",
      "execution_count": null,
      "metadata": {
        "colab": {
          "background_save": true
        },
        "id": "y9BFk4aGE3fY"
      },
      "outputs": [],
      "source": [
        "def times_train_MG(MG, train, time_period=525600):\n",
        "    \"\"\"\n",
        "    Given a microgrid (MG) and a train, this function returns the corresponding times in the year (or\n",
        "    time period) when the train is at that microgrid.\n",
        "\n",
        "    Parameters:\n",
        "    - MG: The microgrid string (e.g., 'MG4', 'MG5').\n",
        "    - train: The train string (e.g., 'Train1', 'Train2').\n",
        "    - time_period: The total time period in minutes (default is 525600 for a full non-leap year).\n",
        "\n",
        "    Returns:\n",
        "    - time_at_MG: A numpy array of times in the year (or time period) when the train is at the specified microgrid.\n",
        "    - time_not_at_MG: A numpy array of times in the year (or time period) when the train is not at the specified microgrid,\n",
        "      including the times before the start of the train's first cycle.\n",
        "    \"\"\"\n",
        "\n",
        "    # Step 1: Identify times in the train's cycle where it is at the specified MG.\n",
        "    # `time_arr_cycle` stores indices in the cycle where the train is at the MG.\n",
        "    time_arr_cycle =  np.where(np.array(TrainAtMG[train]) == MG)[0]\n",
        "\n",
        "    # Step 2: Retrieve the cycle start time and cycle length for the train.\n",
        "    cycle_start = TrainCycle[train][0]\n",
        "    cycle_length = TrainCycle[train][1] - cycle_start\n",
        "    n_repeats = (time_period - cycle_start) // cycle_length + 1  # Represents how many times the cycle can fit within `time_period`.\n",
        "\n",
        "    # Step 3: Calculate times in the year (or time period) when the train is at the MG.\n",
        "    # Using broadcasting, we calculate each cycle repeat's start time (using cycle_start +\n",
        "    # n_repeats * cycle_length) and add the times in `time_arr_cycle` to get the absolute times in the year.\n",
        "    n_repeats = (time_period - cycle_start) // cycle_length + 1\n",
        "    time_arr = cycle_start + np.arange(n_repeats)[:, None] * cycle_length + time_arr_cycle\n",
        "\n",
        "    # Step 5: Filter times within the time period.\n",
        "    time_at_MG = time_arr[time_arr < time_period]  #  Filter for times within `time_period` to ensure no overflow.\n",
        "    time_not_at_MG = np.setdiff1d(np.arange(time_period), time_at_MG)  # By taking the set difference between the entire range and `time_at_MG`, we get `time_not_at_MG`.\n",
        "\n",
        "    return time_at_MG, time_not_at_MG"
      ]
    },
    {
      "cell_type": "code",
      "execution_count": null,
      "metadata": {
        "colab": {
          "background_save": true
        },
        "id": "XLl6SN1ho7ji"
      },
      "outputs": [],
      "source": [
        "def which_train_at_MG(m, t):\n",
        "    \"\"\"\n",
        "    Determines which train (if any) is at a specified microgrid (MG) at a given time.\n",
        "\n",
        "    Parameters:\n",
        "    - m: The microgrid identifier (e.g., 'MG4', 'MG5').\n",
        "    - t: The time (in minutes) for which we want to check which train is at the microgrid.\n",
        "\n",
        "    Returns:\n",
        "    - The train identifier (e.g., 'Train1', 'Train2') if a train is at the microgrid at time t.\n",
        "      If no train is at the microgrid at that time, it returns False.\n",
        "    \"\"\"\n",
        "\n",
        "    i = False  # Initialize i as False, which will be returned if no train is found at the MG at time t.\n",
        "\n",
        "    for ii in trains:  # Loop through each train in the train list\n",
        "        # Step 1: Calculate the corresponding time in the train's cycle\n",
        "        # The formula computes where the given time 't' falls within the repeating cycle of the train.\n",
        "        t2TrainCycle = np.mod(t - TrainCycle[ii][0], TrainCycle[ii][1] - TrainCycle[ii][0])\n",
        "\n",
        "        # Step 2: Check if the train is at the specified microgrid 'm' during that cycle time\n",
        "        # TrainAtMG[ii] gives the location of the train at each time in its cycle.\n",
        "        if TrainAtMG[ii][t2TrainCycle] == m:\n",
        "            i = ii  # If the train is at the microgrid, assign the train's identifier (ii) to 'i'\n",
        "            break  # Stop checking further trains as we already found the train at the microgrid\n",
        "\n",
        "    return i  # Return the train identifier or False if no train was found"
      ]
    },
    {
      "cell_type": "code",
      "execution_count": null,
      "metadata": {
        "colab": {
          "background_save": true
        },
        "id": "jYCHhzw7L-4B"
      },
      "outputs": [],
      "source": [
        "def row_idx_train_MG(mg_index, train_index):\n",
        "    \"\"\"\n",
        "    Calculates row index the row index for a given microgrid index and train index.\n",
        "    \"\"\"\n",
        "    return mg_index * len(trains) + train_index"
      ]
    },
    {
      "cell_type": "code",
      "execution_count": null,
      "metadata": {
        "colab": {
          "background_save": true
        },
        "id": "WyldgD72CvRK"
      },
      "outputs": [],
      "source": [
        "def times_train_not_at_any_MG(train, time_period=525600):\n",
        "    \"\"\"\n",
        "    Given a train and a time period, return the corresponding times in the year (or time period)\n",
        "    when the train is not at ANY microgrid.\n",
        "\n",
        "    Parameters:\n",
        "    - train: The train string (e.g., 'Train1', 'Train2').\n",
        "    - time_period: The total time period in minutes (default is 525600 for a full non-leap year).\n",
        "\n",
        "    Returns:\n",
        "    - time_not_at_all_MG: A numpy arry of times in the year (or time period) when the train is not at ANY microgrid,\n",
        "      including the times before the start of the train's first cycle.\n",
        "    \"\"\"\n",
        "\n",
        "    not_at_any_MG = np.arange(time_period)  # Initialization with all times\n",
        "\n",
        "    for m in MGs:\n",
        "        time_at_MG, _ = times_train_MG(m, train, time_period)  # Get times train is at a specific MG\n",
        "        not_at_any_MG = np.setdiff1d(not_at_any_MG, time_at_MG)  # Remove times from the array\n",
        "\n",
        "    return not_at_any_MG"
      ]
    },
    {
      "cell_type": "code",
      "execution_count": null,
      "metadata": {
        "colab": {
          "background_save": true
        },
        "id": "it6CWL-Eyamp"
      },
      "outputs": [],
      "source": [
        "def times_MG_with_no_train(MG, time_period=525600):\n",
        "    \"\"\"\n",
        "    Given a microgrid (MG) and a time period, return the corresponding times in the year (or time period)\n",
        "    when the microgrid has no train.\n",
        "\n",
        "    Parameters:\n",
        "    - MG: The microgrid string (e.g., 'MG4', 'MG5').\n",
        "    - time_period: The total time period in minutes (default is 525600 for a full non-leap year).\n",
        "\n",
        "    Returns:\n",
        "    - time_MG_with_no_train: A numpy array of times in the year (or time period) when the microgrid has no train,\n",
        "      including the times before the start of a train's first cycle.\n",
        "    \"\"\"\n",
        "\n",
        "    time_MG_with_no_train = np.arange(time_period)  # Initialize with all times\n",
        "\n",
        "    for t in trains:\n",
        "        time_at_MG, _ = times_train_MG(MG, t, time_period)  # Get a specific train is at the MG\n",
        "        time_MG_with_no_train = np.setdiff1d(time_MG_with_no_train, time_at_MG)  # Remove times from the array\n",
        "\n",
        "    return time_MG_with_no_train"
      ]
    },
    {
      "cell_type": "code",
      "execution_count": null,
      "metadata": {
        "colab": {
          "background_save": true,
          "base_uri": "https://localhost:8080/"
        },
        "id": "jtSs5eOwEFM1",
        "outputId": "41ee92df-8a89-4913-e7ea-5ee90bd9fbcf"
      },
      "outputs": [
        {
          "name": "stdout",
          "output_type": "stream",
          "text": [
            "[     0      1      2 ... 525597 525598 525599]\n"
          ]
        }
      ],
      "source": [
        "print(times_train_not_at_any_MG('Train1'))"
      ]
    },
    {
      "cell_type": "markdown",
      "metadata": {
        "id": "rEmCWj38E7KX"
      },
      "source": [
        "#### **Extract and Set Data**"
      ]
    },
    {
      "cell_type": "markdown",
      "metadata": {
        "id": "G9neglQGoX03"
      },
      "source": [
        "##### **Data Functions**"
      ]
    },
    {
      "cell_type": "code",
      "execution_count": null,
      "metadata": {
        "colab": {
          "background_save": true
        },
        "id": "9D5roSE0oKSw"
      },
      "outputs": [],
      "source": [
        "def extract_train_time_data(file_path, MGs, trains, TrainCycle):\n",
        "    \"\"\"\n",
        "    Extracts train data (load, regenerative power, and microgrid locations) for each train over time\n",
        "    from an Excel file.\n",
        "\n",
        "    Parameters:\n",
        "    - file_path: The path to the Excel file containing train cycle data.\n",
        "    - MGs: A dictionary or list containing microgrid names (e.g., ['MG1', 'MG2', ...]).\n",
        "    - trains: A list containing the train names (e.g., ['Train1', 'Train2', 'Train3']).\n",
        "    - TrainCycle: A dictionary containing the start and end time for each train's cycle.\n",
        "\n",
        "    Returns:\n",
        "    - TrainLoad: A dictionary where keys are train names, and values are lists of the train load per minute.\n",
        "    - REG2TrainESS: A dictionary where keys are train names, and values are lists of regenerative power values per minute.\n",
        "    - TrainAtMG: A dictionary where keys are train names, and values are lists indicating which microgrid (if any) the train is at for each minute.\n",
        "    \"\"\"\n",
        "\n",
        "    # Initialize dictionaries to store train data (load, regenerative power, microgrid location)\n",
        "    TrainLoad = {train: {} for train in trains}\n",
        "    REG2TrainESS = {train: {} for train in trains}\n",
        "    TrainAtMG = {train: {} for train in trains}\n",
        "\n",
        "    # Define the sheet names dynamically based on train names\n",
        "    # Assumes the sheets are named in the format 'Train1_cycle', etc.\n",
        "    train_sheets = [f'{train}_cycle' for train in trains]\n",
        "\n",
        "    for ind, train in enumerate(TrainLoad):  # Iterate over each train\n",
        "        sheet = train_sheets[ind]  # Get the corresponding sheet for the train\n",
        "\n",
        "        # Extract microgrid (MG) location data for the train\n",
        "        train_at_MG = []\n",
        "        MG_times = pd.read_excel(file_path, sheet_name=sheet, usecols=\"I:M\", skiprows=4)\n",
        "        # Each row in the MG_times dataframe corresponds to whether the train is at a particular MG at that minute.\n",
        "\n",
        "        # For each minute in the cycle, check which MG the train is at, or if it is not at any MG\n",
        "        cycle_length = TrainCycle[train][1] - TrainCycle[train][0]\n",
        "        for t in range(cycle_length):\n",
        "            arr = MG_times.iloc[t].to_numpy()  # Convert row to NumPy array for processing\n",
        "            train_at_MG.append(MGs[np.argmax(arr)] if np.any(arr) else False)\n",
        "            # np.argmax returns the index of the MG where the train is at (highest value). If no MG is detected, append False.\n",
        "\n",
        "        TrainAtMG[train] = train_at_MG  # Store the result in the TrainAtMG dictionary for the current train\n",
        "\n",
        "        # Extract train load data for each minute in the cycle\n",
        "        train_load = pd.read_excel(file_path, sheet_name=sheet, usecols=\"G\", skiprows=4)\n",
        "        TrainLoad[train] = train_load.iloc[0:cycle_length, 0].tolist()  # Convert the column to a list and store it\n",
        "\n",
        "        # Extract regenerative power data for each minute in the cycle\n",
        "        regen = pd.read_excel(file_path, sheet_name=sheet, usecols=\"H\", skiprows=4)\n",
        "        REG2TrainESS[train] = np.abs(regen.iloc[0:cycle_length, 0]).tolist()  # Regenerative power is negated (as input) and stored as a list\n",
        "\n",
        "    return TrainLoad, REG2TrainESS, TrainAtMG\n"
      ]
    },
    {
      "cell_type": "code",
      "execution_count": null,
      "metadata": {
        "colab": {
          "background_save": true
        },
        "id": "-FupwIDjoMIn"
      },
      "outputs": [],
      "source": [
        "def extract_grid_time_data(file_path):\n",
        "    \"\"\"\n",
        "    Extracts the grid price per hour from the Excel file and converts it from cents to dollars per kWh.\n",
        "\n",
        "    Parameters:\n",
        "    - file_path: The path to the Excel file containing grid price data.\n",
        "\n",
        "    Returns:\n",
        "    - grid_price_hour: A list containing the grid price per hour in dollars per kWh.\n",
        "    \"\"\"\n",
        "\n",
        "    # Read grid price per hour from the Excel file and convert from cents to dollars\n",
        "    grid_price_hour = pd.read_excel(file_path, sheet_name='gridprice_hour', usecols=\"C\", skiprows=7) / 100\n",
        "\n",
        "    return grid_price_hour.iloc[:, 0].tolist()  # Convert the DataFrame column to a list\n"
      ]
    },
    {
      "cell_type": "code",
      "execution_count": null,
      "metadata": {
        "colab": {
          "background_save": true
        },
        "id": "CKHwtzW4oPHa"
      },
      "outputs": [],
      "source": [
        "def extract_PV_time_data(file_path):\n",
        "    \"\"\"\n",
        "    Extracts and interpolates solar power production data from hourly values to minute-level values. Notice that all MGs share the same PV production values.\n",
        "\n",
        "    Parameters:\n",
        "    - file_path: The path to the Excel file containing solar power production data.\n",
        "\n",
        "    Returns:\n",
        "    - A sparse matrix with minute-level solar power production for the microgrids.\n",
        "    \"\"\"\n",
        "\n",
        "    def interpolate_minute(minute_pv_prod, P_prev, P_next):\n",
        "        \"\"\"\n",
        "        Interpolates solar power production between two consecutive hours to get per-minute values.\n",
        "\n",
        "        Parameters:\n",
        "        - minute_pv_prod: List to store interpolated minute-level PV production values.\n",
        "        - P_prev: The PV production value at the previous hour.\n",
        "        - P_next: The PV production value at the next hour.\n",
        "\n",
        "        Returns:\n",
        "        - minute_pv_prod: Updated list with interpolated minute-level values.\n",
        "        \"\"\"\n",
        "        for minute in range(60):\n",
        "            P_minute = P_prev + (P_next - P_prev) * (minute / 60)  # Linear interpolation for each minute\n",
        "            minute_pv_prod.append(P_minute/60)  # Append the interpolated value and adjust it to minute-level\n",
        "        return minute_pv_prod\n",
        "\n",
        "    # Step 1: Read hourly PV production data from the Excel file (for two microgrids)\n",
        "    pv_prod_hour = pd.read_excel(file_path, sheet_name='solar_hour', usecols=\"C\", skiprows=7)\n",
        "\n",
        "    # Step 2: Add the first row to the end of the dataframe to handle the cyclic nature of the data (yearly repeat)\n",
        "    pv_prod_hour.loc[len(pv_prod_hour)] = pv_prod_hour.iloc[0]\n",
        "\n",
        "    # Step 3: Initialize a list to store minute-level PV production values\n",
        "    pv_prod_minute = []\n",
        "    zero_minutes = [0] * 60  # A list of zero values for 60 minutes (used when both P_prev and P_next are 0)\n",
        "\n",
        "    # Step 4: Loop through each hour and interpolate minute-level values\n",
        "    for hour in range(len(pv_prod_hour) - 1):\n",
        "        P_prev, P_next = pv_prod_hour.iloc[hour].values[0], pv_prod_hour.iloc[hour + 1].values[0]  # Get PV production for current and next hour\n",
        "        if not (P_prev.any() or P_next.any()):  # If both values are zero, append zero minutes\n",
        "            pv_prod_minute.extend(zero_minutes)\n",
        "        else:  # Otherwise, interpolate between the two hourly values\n",
        "            pv_prod_minute = interpolate_minute(pv_prod_minute, P_prev, P_next)\n",
        "\n",
        "    return sparse.csr_matrix(np.array(pv_prod_minute))  # Step 5: Convert the minute-level PV production data to a sparse matrix format for memory efficiency\n"
      ]
    },
    {
      "cell_type": "markdown",
      "metadata": {
        "id": "gjN3OxQToRLK"
      },
      "source": [
        "##### **Define Dataset**"
      ]
    },
    {
      "cell_type": "code",
      "execution_count": null,
      "metadata": {
        "id": "FXCjbaOuE0je"
      },
      "outputs": [],
      "source": [
        "# Define the file path to the Excel file containing the train and grid data\n",
        "\n",
        "# Define the list of trains, microgrids (MGs), and MGs with PV for which data will be extracted\n",
        "file_path = '/content/drive/MyDrive/Colab_Notebooks/Voltify/model_train_data.xlsx'\n",
        "trains = ['Train1', 'Train2', 'Train3']\n",
        "MGs = ['MG1', 'MG2', 'MG3', 'MG4', 'MG5']\n",
        "GRID_MGs = ['MG3', 'MG4', 'MG5']\n",
        "\n",
        "num_trains = len(trains)\n",
        "num_MGs = len(MGs)"
      ]
    },
    {
      "cell_type": "code",
      "execution_count": null,
      "metadata": {
        "id": "78MLPIuHtc9d"
      },
      "outputs": [],
      "source": [
        "# Step 1: Define the train cycle information and time period\n",
        "# TrainCycle defines the start and end minute of each train's cycle\n",
        "TrainCycle = {\n",
        "    'Train1': (60, 60 + 7338),  # Train1 cycle starts at minute 60 (slice 59) and ends after 7338 minutes\n",
        "    'Train2': (700, 700 + 6944),  # Train2 cycle starts at minute 700 (slice 699) and ends ends after 6944 minutes\n",
        "    'Train3': (1380, 1380 + 7101)  # Train3 cycle starts at minute 1380 (slice 1379) ends after 7101 minutes\n",
        "}\n",
        "\n",
        "# Define the total number of minutes in the year (T) or a shorter time period for testing\n",
        "T = 24*60*365  # Number of minutes in a year (non-leap year)"
      ]
    },
    {
      "cell_type": "code",
      "execution_count": null,
      "metadata": {
        "id": "eMvhioPciW7_"
      },
      "outputs": [],
      "source": [
        "# Step 2: Extract data from the Excel file\n",
        "# Extract data related to train loads in kWh/minute, regenerative power in kWh/minute, and MG locations for each train\n",
        "TrainLoad, REG2TrainESS, TrainAtMG = extract_train_time_data(file_path, MGs, trains, TrainCycle)\n",
        "\n",
        "# Extract grid price in $ for 1kWh per hour, over the entire year\n",
        "GRIDprice = extract_grid_time_data(file_path)\n",
        "\n",
        "# Extract solar PV production data and interpolate to minute-level data in kWh/minute/kWp.\n",
        "PVprod = extract_PV_time_data(file_path)"
      ]
    },
    {
      "cell_type": "code",
      "execution_count": null,
      "metadata": {
        "id": "Um1lnjx6imC0"
      },
      "outputs": [],
      "source": [
        "# Step 3: Set Train ESS parameters\n",
        "TrainESSmin = {train: 500 for train in trains}  # Minimum state of charge (SOC) for each train ESS in kWh\n",
        "TrainESScap = {train: 20000 for train in trains}  # Train ESS capacity (maximum SOC) in kWh\n",
        "TrainESSchargeMAX = {train: 0.5*TrainESScap[train]/60 for train in trains}  # Max charge rate for each train ESS in kWh/minute\n",
        "TrainESSdischargeMAX = TrainESSchargeMAX  # Max discharge rate is set to be the same as charge rate\n",
        "TrainESSchargeLoss = {train: 0.04 for train in trains}  # Charge loss for each train ESS\n",
        "TrainESSdischargeLoss = TrainESSchargeLoss  # Discharge loss is set to be the same as charge loss"
      ]
    },
    {
      "cell_type": "code",
      "execution_count": null,
      "metadata": {
        "id": "YEldlXyQjtul"
      },
      "outputs": [],
      "source": [
        "# Step 4: Set MG ESS parameters\n",
        "MGESSmin = {MG: 500 for MG in MGs}  # Min SOC for each MG ESS in kWh\n",
        "MGESSchargeMAX_ratio = {MG: 0.5/60 for MG in MGs}  # Max charge rate ratio for each MG ESS in kWh/minute (MGESSchargeMAX is a variable: MGESSchargeMAX=MGESScap*MGESSchargeMAX_ratio)\n",
        "MGESSdischargeMAX_ratio = MGESSchargeMAX_ratio  # Max discharge rate is set to be the same as charge rate (MGESSdischargeMAX is a variable: MGESSdischargeMAX=MGESScap*MGESSdischargeMAX_ratio)\n",
        "MGESSchargeLoss = {MG: 0.04 for MG in MGs}  # Charge loss for each MG ESS\n",
        "MGESSdischargeLoss = MGESSchargeLoss  # Discharge loss is set to be the same as charge loss"
      ]
    },
    {
      "cell_type": "code",
      "execution_count": null,
      "metadata": {
        "id": "GFq9eyyfkhw9"
      },
      "outputs": [],
      "source": [
        "# Step 5: Initialize state of charge (SOC) for train ESS and MG ESS\n",
        "# This defines the initial SOC for each train and MG ESS,\n",
        "TrainESSsocInit = {train: 5000 for train in trains}  # Initial SOC for train ESS in kWh\n",
        "MGESSsocInit_ratio = {MG: 1 for MG in MGs}  # Initial SOC ratio for MG ESS (MGESSsocInit is a variable: MGESSsocInit=MGESScap*MGESSsocInit_ratio)"
      ]
    },
    {
      "cell_type": "code",
      "execution_count": null,
      "metadata": {
        "id": "T1TPLrTtkAbY"
      },
      "outputs": [],
      "source": [
        "# Step 6: Set grid production for each MG (in KWh) and maximum PV capacity for installation\n",
        "GRIDprod = {'MG1': 0, 'MG2': 0, 'MG3': 8.3/60, 'MG4': 12/60, 'MG5': 8.3/60}  # Grid power production in kWh/minute\n",
        "PVcapMAX = {'MG1': 20000, 'MG2': 20000, 'MG3': 20000, 'MG4': 15000, 'MG5': 15000}  # Maximum PV capacity to be installed in kWp\n",
        "MGESScapMAX = {'MG1': 20000, 'MG2': 20000, 'MG3': 20000, 'MG4': 20000, 'MG5': 20000}  # Maximum MGESS capacity to be installed in kWh"
      ]
    },
    {
      "cell_type": "code",
      "execution_count": null,
      "metadata": {
        "id": "w_cxb5b1kwCr"
      },
      "outputs": [],
      "source": [
        "# Step 7: Calculate regenerative power with respect to max charge rate for Train ESS\n",
        "# Ensure regenerative power does not exceed the max charge rate of the train ESS\n",
        "REG2TrainESSs = {\n",
        "    train: [min(REG2TrainESS[train][t], TrainESSchargeMAX[train]) for t in range(len(REG2TrainESS[train]))]\n",
        "    for train in trains\n",
        "}"
      ]
    },
    {
      "cell_type": "code",
      "execution_count": null,
      "metadata": {
        "id": "14-PVQ4DlDkI"
      },
      "outputs": [],
      "source": [
        "# Step 8: Adjust Train ESS capacity to account for difference between regenerative power and train load\n",
        "# TrainESScap is adjusted to ensure capacity is not exceeded by incoming regenerative power and load\n",
        "TrainESScap = {\n",
        "    train: [TrainESScap[train] - np.max([REG2TrainESS[train][t] - TrainLoad[train][t], 0])\n",
        "            for t in range(len(REG2TrainESS[train]))]\n",
        "    for train in trains\n",
        "}"
      ]
    },
    {
      "cell_type": "code",
      "execution_count": null,
      "metadata": {
        "id": "2lj6av9olPAv"
      },
      "outputs": [],
      "source": [
        "# Step 9: Set solver type\n",
        "# GLPK_MI is a solver option to be used for optimization (mixed-integer programming)\n",
        "solver = 'GLPK_MI'"
      ]
    },
    {
      "cell_type": "code",
      "execution_count": null,
      "metadata": {
        "id": "GjaZ1hHxlT94"
      },
      "outputs": [],
      "source": [
        "# Step 10: Set installation costs, maintenance costs, and coefficients\n",
        "PVcost = {MG: 1000 for MG in MGs}  # Cost of installing PV in $ per 1kWp\n",
        "MGESScost = {MG: 120 for MG in MGs}  # Cost of installing MG ESS in $ per 1kWh\n",
        "CostsCoeff = 0.07  # Coefficient for weighing investment costs (VERIFY)\n",
        "PVmaintCoeff = {MG: 3 for MG in MGs}  # PV maintenance cost coefficient in $ per 1kWp in one year\n",
        "MGESSmaintCoeff = {MG: 1000 for MG in MGs}  # MG ESS maintenance cost coefficient in $ per 1kWh in one year\n",
        "\n",
        "# Set maximum power transfer from MG to train\n",
        "MG2TrainMAX = {MG: TrainESSchargeMAX for MG in MGs}  # Max power transfer from MG to train in kWh/minute"
      ]
    },
    {
      "cell_type": "code",
      "execution_count": null,
      "metadata": {
        "id": "ZMmp-8qdRc-1"
      },
      "outputs": [],
      "source": [
        "save_variables('/content/drive/MyDrive/Colab_Notebooks/Voltify/dataset.pkl')"
      ]
    },
    {
      "cell_type": "markdown",
      "metadata": {
        "id": "Y0ga77xnPIjT"
      },
      "source": [
        "#### **Run Problem**"
      ]
    },
    {
      "cell_type": "code",
      "execution_count": null,
      "metadata": {
        "colab": {
          "background_save": true
        },
        "id": "4ULBqPqvUCR3"
      },
      "outputs": [],
      "source": [
        "# Load variables from the file\n",
        "load_variables('/content/drive/MyDrive/Colab_Notebooks/Voltify/dataset.pkl')"
      ]
    },
    {
      "cell_type": "code",
      "execution_count": null,
      "metadata": {
        "id": "ZbN3helhXzGA"
      },
      "outputs": [],
      "source": [
        "T=1000"
      ]
    },
    {
      "cell_type": "code",
      "execution_count": null,
      "metadata": {
        "colab": {
          "background_save": true,
          "base_uri": "https://localhost:8080/"
        },
        "id": "Aj5n9QVDrW7B",
        "outputId": "cbd58279-d134-4652-92f4-ba09df806c5e"
      },
      "outputs": [
        {
          "name": "stdout",
          "output_type": "stream",
          "text": [
            "Solving the MG System Planning MLIP Problem using CVXPY and the GLPK_MI Solver\n",
            "===============================================================================\n",
            "                                     CVXPY                                     \n",
            "                                     v1.5.3                                    \n",
            "===============================================================================\n",
            "(CVXPY) Oct 27 12:49:24 PM: Your problem has 81030 variables, 107750 constraints, and 0 parameters.\n",
            "(CVXPY) Oct 27 12:49:24 PM: It is compliant with the following grammars: DCP, DQCP\n",
            "(CVXPY) Oct 27 12:49:24 PM: (If you need to solve this problem multiple times, but with different data, consider using parameters.)\n",
            "(CVXPY) Oct 27 12:49:24 PM: CVXPY will first compile your problem; then, it will invoke a numerical solver to obtain a solution.\n",
            "(CVXPY) Oct 27 12:49:24 PM: Your problem is compiled with the CPP canonicalization backend.\n",
            "-------------------------------------------------------------------------------\n",
            "                                  Compilation                                  \n",
            "-------------------------------------------------------------------------------\n",
            "(CVXPY) Oct 27 12:49:24 PM: Compiling problem (target solver=GLPK_MI).\n",
            "(CVXPY) Oct 27 12:49:24 PM: Reduction chain: Dcp2Cone -> CvxAttr2Constr -> ConeMatrixStuffing -> GLPK_MI\n",
            "(CVXPY) Oct 27 12:49:24 PM: Applying reduction Dcp2Cone\n",
            "(CVXPY) Oct 27 12:49:24 PM: Applying reduction CvxAttr2Constr\n",
            "(CVXPY) Oct 27 12:49:24 PM: Applying reduction ConeMatrixStuffing\n",
            "(CVXPY) Oct 27 12:49:24 PM: Applying reduction GLPK_MI\n",
            "(CVXPY) Oct 27 12:49:24 PM: Finished problem compilation (took 7.351e-01 seconds).\n",
            "-------------------------------------------------------------------------------\n",
            "                                Numerical solver                               \n",
            "-------------------------------------------------------------------------------\n",
            "(CVXPY) Oct 27 12:49:24 PM: Invoking solver GLPK_MI  to obtain a solution.\n",
            "-------------------------------------------------------------------------------\n",
            "                                    Summary                                    \n",
            "-------------------------------------------------------------------------------\n",
            "(CVXPY) Oct 27 12:49:54 PM: Problem status: optimal\n",
            "(CVXPY) Oct 27 12:49:54 PM: Optimal value: 1.818e+06\n",
            "(CVXPY) Oct 27 12:49:54 PM: Compilation took 7.351e-01 seconds\n",
            "(CVXPY) Oct 27 12:49:54 PM: Solver (including time spent in interface) took 2.942e+01 seconds\n",
            "-------------------------------------------------------------------------------\n",
            "                                      Done                                     \n",
            "-------------------------------------------------------------------------------\n",
            "Solution status:  optimal\n"
          ]
        }
      ],
      "source": [
        "print('Solving the MG System Planning MLIP Problem using CVXPY and the', solver, 'Solver')\n",
        "\n",
        "\n",
        "# Initialize the total cost variables and constraints list\n",
        "GridCost = 0            # Tracks cost of energy drawn from the grid across all MGs\n",
        "MaintenanceCost = 0     # Tracks maintenance cost for PV and MG ESS systems across all MGs\n",
        "Investment = 0          # Tracks capital investment for PV and MG ESS installations\n",
        "constraints = []        # List to hold all constraints for the optimization problem\n",
        "\n",
        "# Define Train Decision Variables\n",
        "TrainESS2TrainLoad = cp.Variable((num_trains, T), nonneg=True)      # Power sent from Train ESS to Train Load, defined for each train at each time step\n",
        "TrainESSsoc = cp.Variable((num_trains, T), nonneg=True)             # SoC of Train ESS for each train at each time step\n",
        "                                                                    # NOTE: The variable TrainESSsoc assumes that the start time of each train is at least 1, placing the initial SoC at index 0.\n",
        "                                                                    #       If the start time is at time 0, TrainESSsoc would need T+1 columns.\n",
        "\n",
        "# Define MG Decision Variables\n",
        "PV2MGESS = cp.Variable((num_MGs, T), nonneg=True)           # PV power production going to MG ESS for each MG at each time step\n",
        "GRID2MGESS = cp.Variable((num_MGs, T), nonneg=True)         # Grid power going to MG ESS for each MG at each time step\n",
        "MGESSsoc = cp.Variable((num_MGs, T+1), nonneg=True)         # SoC of MG ESS for each MG at each time step, starting from time 0 (with an additional time step for initial SoC)\n",
        "PVcap = cp.Variable(num_MGs, nonneg=True)                   # PV capacity in kWp for each MG\n",
        "MGESScap = cp.Variable(num_MGs, nonneg=True)                # MG ESS capacity in kWh for each MG\n",
        "#MGESSsocInit = cp.Variable(num_MGs, nonneg=True)            # MG ESS initial SoC for each MG\n",
        "MGESSinstall = cp.Variable(num_MGs, boolean=True)           # Binary variable indicating whether MG ESS is installed at each MG (1 = installed, 0 = not installed)\n",
        "MGESSchargeMAX = cp.Variable(num_MGs, nonneg=True)          # Maximum allowable charge rate for each MG ESS in kWh/min\n",
        "MGESSdischargeMAX = cp.Variable(num_MGs, nonneg=True)       # Maximum allowable discharge rate for each MG ESS in kWh/min\n",
        "\n",
        "# Define Interaction Variables for Train and MG\n",
        "# The following variables represent the power exchanges between trains and MGs, organized by row:\n",
        "# Each row corresponds to an MG-Train pair (e.g., row 0 represents MG1-Train1, row 1 MG1-Train2, etc.)\n",
        "PV2Train = cp.Variable((num_MGs*num_trains, T), nonneg=True)        # PV to train\n",
        "GRID2Train = cp.Variable((num_MGs*num_trains, T), nonneg=True)      # Grid to train\n",
        "MGESS2Train = cp.Variable((num_MGs*num_trains, T), nonneg=True)     # MG ESS to Train\n",
        "MG2TrainESS = cp.Variable((num_MGs*num_trains, T), nonneg=True)     # MG to Train ESS\n",
        "\n",
        "\n",
        "# Constraint initialization (not time-dependent)\n",
        "for m, MG in enumerate(MGs):\n",
        "    # Initialize the MGESS SoC at time 0 based on the initial SoC ratio and the MGESS capacity\n",
        "    constraints += [MGESSsoc[m, 0] == MGESSsocInit_ratio[MG] * MGESScap[m],\n",
        "\n",
        "                    # Ensure minimum SoC if MGESS is installed:\n",
        "                    # If MGESSinstall[m] == 1, enforce SoC >= MGESSmin[MG]. If MGESSinstall[m] == 0, SoC is forced to be 0.\n",
        "                    MGESSmin[MG] * MGESSinstall[m] <= MGESSsoc[m, 0],\n",
        "\n",
        "                    # MGESS capacity constraint: Only non-zero if MGESS is installed (MGESSinstall[m] == 1),\n",
        "                    # bounded by the maximum allowed MGESS capacity to be installed (MGESScapMAX[MG]).\n",
        "                    MGESScap[m] <= MGESSinstall[m] * MGESScapMAX[MG],\n",
        "\n",
        "                    # Define the maximum MGESS charging and discharging rates as a function of the capacity\n",
        "                    MGESSchargeMAX[m] == MGESSchargeMAX_ratio[MG] * MGESScap[m],\n",
        "                    MGESSdischargeMAX[m] == MGESSdischargeMAX_ratio[MG] * MGESScap[m],\n",
        "\n",
        "                    # PV capacity constraint: Ensure installed PV capacity does not exceed maximum allowed capacity to be installed for each MG\n",
        "                    PVcap[m] <= PVcapMAX[MG]]\n",
        "\n",
        "    if MG not in GRID_MGs:  # If the current MG does not have GRID capabilities, set related variables to 0 for all time steps\n",
        "        constraints += [GRID2Train[np.array([m * num_trains + i for i in range(num_trains)]), :] == 0,  # Zero out rows for all trains at this MG\n",
        "                        GRID2MGESS[m, :] == 0]  # Set GRID2MGESS to 0 for this MG\n",
        "\n",
        "\n",
        "# Loop through each train and define constraints over all time periods\n",
        "for i, train in enumerate(trains):\n",
        "    trainStartTime = TrainCycle[train][0]  # Start time of the train's first cycle\n",
        "    trainCycleLen = TrainCycle[train][1] - trainStartTime  # Length of the train's cycle\n",
        "    row_indxs = [i + m * num_trains for m in range(num_MGs)]  # Row indices for each MG corresponding to the train\n",
        "\n",
        "    # Set initial conditions for train ESS\n",
        "    constraints += [TrainESS2TrainLoad[i, :trainStartTime] == 0,  # No discharge before the train start time\n",
        "                    TrainESSsoc[i, :trainStartTime] == TrainESSsocInit[train],  # SoC remains at initial value before the train start time\n",
        "\n",
        "                    # For each MG associated with the train, interactions (PV, Grid, MGESS) are inactive before train start\n",
        "                    PV2Train[row_indxs, :trainStartTime] == 0,\n",
        "                    GRID2Train[row_indxs, :trainStartTime] == 0,\n",
        "                    MGESS2Train[row_indxs, :trainStartTime] == 0,\n",
        "                    MG2TrainESS[row_indxs, :trainStartTime] == 0]\n",
        "\n",
        "\n",
        "    # Define discharge and SoC constraints for Train ESS during active time periods (from start time to T):\n",
        "    t2TrainCycle = np.mod(np.arange(trainStartTime, T) - trainStartTime, trainCycleLen)  # Define time in terms of the relative position within the train cycle\n",
        "    TrainESScap_cycle = np.tile(TrainESScap[train], int(np.ceil(len(t2TrainCycle) / trainCycleLen)))[:len(t2TrainCycle)]  # Array for ESS capacity based on cycle times (for all cycles)\n",
        "    # Equivalent to `np.array([TrainESScap[train][t_cycle] for t_cycle in t2TrainCycle])` with no loop\n",
        "\n",
        "    if trainStartTime < T:  # This statement is False only for test cases with small T values.\n",
        "        constraints += [TrainESS2TrainLoad[i, trainStartTime:] <= TrainESSdischargeMAX[train],  # Ensure TrainESS2TrainLoad does not exceed max discharge rate.\n",
        "                        TrainESSmin[train] <= TrainESSsoc[i, trainStartTime:],  # Maintain SoC within min and capacity limits.\n",
        "                        TrainESSsoc[i, trainStartTime:] <= TrainESScap_cycle]\n",
        "\n",
        "\n",
        "    # Times when the train is not at any MG\n",
        "    t_no_MG = np.setdiff1d(times_train_not_at_any_MG(train, T), np.arange(trainStartTime))\n",
        "    if len(t_no_MG) > 0:\n",
        "        t2TrainCycle_no_MG = np.mod(np.array(t_no_MG) - trainStartTime, trainCycleLen)  # Calculate time within the train cycle for times without MG interaction\n",
        "        # Precompute load and regenerative power for these times in the cycle\n",
        "        TrainLoad_no_MG = np.take(TrainLoad[train], t2TrainCycle_no_MG)\n",
        "        REG2TrainESS_no_MG = np.take(REG2TrainESS[train], t2TrainCycle_no_MG)\n",
        "\n",
        "        # Constraints for train operation when not at any MG\n",
        "        constraints += [TrainLoad_no_MG == TrainESS2TrainLoad[i, t_no_MG] * (1 - TrainESSdischargeLoss[train]),  # Train load must match ESS discharge rate, adjusted for discharge loss\n",
        "\n",
        "                        # SoC of the train ESS is updated based on regenerative power and discharge activity\n",
        "                        TrainESSsoc[i, t_no_MG] == TrainESSsoc[i, t_no_MG - 1] + REG2TrainESS_no_MG * (1 - TrainESSchargeLoss[train]) - TrainESS2TrainLoad[i, t_no_MG]]\n",
        "\n",
        "\n",
        "    for m, MG in enumerate(MGs):\n",
        "        t_MG, t_not_MG = times_train_MG(MG, train, T)  # Identify the times when the train is at and not at the given MG\n",
        "        t_not_MG = np.setdiff1d(t_not_MG, np.arange(trainStartTime))  # Only include times the train is not at the given MG after the start of its first cycle (times before are already handled)\n",
        "        row_idx = row_idx_train_MG(m, i)  # Row index for this MG and train combination\n",
        "\n",
        "        if len(t_MG) > 0:  # If the train is at this MG during certain times\n",
        "            # Calculate time within the train cycle for times at this MG\n",
        "            t2TrainCycle_MG = np.mod(np.array(t_MG) - trainStartTime, trainCycleLen)\n",
        "            # Precompute load and regenerative power for times at this MG based on cycle times (for all cycles)\n",
        "            TrainLoad_MG = np.take(TrainLoad[train], t2TrainCycle_MG)\n",
        "            REG2TrainESS_MG = np.take(REG2TrainESS[train], t2TrainCycle_MG)\n",
        "\n",
        "            # Add constraints for when the train is at the MG:\n",
        "            # Total train load must equal incoming power minus outgoing power, adjusted by losses\n",
        "            constraints += [TrainLoad_MG == PV2Train[row_idx, t_MG] + GRID2Train[row_idx, t_MG] + MGESS2Train[row_idx, t_MG] * (1 - MGESSdischargeLoss[MG]) - MG2TrainESS[row_idx, t_MG] + TrainESS2TrainLoad[i, t_MG] * (1 - TrainESSdischargeLoss[train]),\n",
        "\n",
        "                            # Power transfer must not exceed MG-to-train max capacity\n",
        "                            PV2Train[row_idx, t_MG] + GRID2Train[row_idx, t_MG] + MGESS2Train[row_idx, t_MG] <= MG2TrainMAX[MG][train],\n",
        "\n",
        "                            # Charging rates for MG-to-train and regenerative sources must not exceed max charge rate\n",
        "                            MG2TrainESS[row_idx, t_MG] + REG2TrainESS_MG <= TrainESSchargeMAX[train],\n",
        "\n",
        "                            # Net inflow to the train ESS must be non-negative\n",
        "                            PV2Train[row_idx, t_MG] + GRID2Train[row_idx, t_MG] + MGESS2Train[row_idx, t_MG] - MG2TrainESS[row_idx, t_MG] >= 0,\n",
        "\n",
        "                            # Train ESS SoC updates based on power flows, charge losses, and discharge activity\n",
        "                            TrainESSsoc[i, np.array(t_MG)] == TrainESSsoc[i, np.array(t_MG)-1] + (MG2TrainESS[row_idx, t_MG] + REG2TrainESS_MG) * (1 - TrainESSchargeLoss[train]) - TrainESS2TrainLoad[i, t_MG]]\n",
        "\n",
        "        if len(t_not_MG) > 0:  # If the train is not at this MG during certain times\n",
        "            # Set power-related variables to zero for times when the train is not at the MG\n",
        "            constraints += [PV2Train[row_idx, t_not_MG] == 0,\n",
        "                            GRID2Train[row_idx, t_not_MG] == 0,\n",
        "                            MGESS2Train[row_idx, t_not_MG] == 0,\n",
        "                            MG2TrainESS[row_idx, t_not_MG] == 0]\n",
        "\n",
        "\n",
        "\n",
        "# Generate an array that maps each minute of the year to its respective hour, allowing easy access to hourly grid prices\n",
        "t2YearHour = np.arange(T) // 60  # Array mapping each minute in the year to its corresponding hour index\n",
        "GRIDprice_minute = np.take(GRIDprice, t2YearHour)  # Maps each minute to its grid price based on the hour index\n",
        "\n",
        "# Initialize costs associated with the grid, maintenance, and investment\n",
        "for m, MG in enumerate(MGs):\n",
        "    # Accumulate grid, maintenance, and investment costs for the current microgrid\n",
        "    GridCost += cp.sum(cp.multiply(GRID2MGESS[m, :], GRIDprice_minute))\n",
        "    MaintenanceCost += PVmaintCoeff[MG]*PVcap[m] + MGESSmaintCoeff[MG]*MGESScap[m]\n",
        "    Investment += PVcost[MG]*PVcap[m] + MGESScost[MG]*MGESScap[m]\n",
        "\n",
        "\n",
        "    # Set constraints for MGESS charging and SoC limits\n",
        "    constraints += [PV2MGESS[m, :] + GRID2MGESS[m, :] <= MGESSchargeMAX[m],  # Total power input to MGESS cannot exceed max charge rate\n",
        "                    MGESSmin[MG] * MGESSinstall[m] <= MGESSsoc[m, 1:],  # Enforce minimum SoC if MGESS is installed; SoC must be at least MGESSmin[MG]\n",
        "                    MGESSsoc[m, 1:] <= MGESScap[m]]  # SoC cannot exceed MGESS capacity\n",
        "\n",
        "\n",
        "    # When no train is connected to this MG, manage PV and GRID constraints\n",
        "    t_no_train = times_MG_with_no_train(MG, T)  # Times when MG has no train connected\n",
        "    if len(t_no_train) > 0:\n",
        "        PVprod_dense = np.reshape(np.array(PVprod[0, t_no_train].todense()), -1)  # Flatten PV production values for these times\n",
        "        constraints += [MGESSsoc[m, t_no_train + 1] == MGESSsoc[m, t_no_train] + (PV2MGESS[m, t_no_train] + GRID2MGESS[m, t_no_train]) * (1 - MGESSchargeLoss[MG]),  # MGESS SoC transition\n",
        "                    PV2MGESS[m, t_no_train] <= PVprod_dense * PVcap[m],  # PV input to MGESS cannot exceed production\n",
        "                    GRID2MGESS[m, t_no_train] <= GRIDprod[MG]]  # Grid input to MGESS limited by GRID capacity\n",
        "\n",
        "\n",
        "    # Loop over each train to handle times when it may be connected to this MG (assumes that no more than one train is connected to a given MG at any time)\n",
        "    for i, train in enumerate(trains):\n",
        "        t_MG, _ = times_train_MG(MG, train, T)  # Get times when train is at this MG\n",
        "        row_idx = row_idx_train_MG(m, i)  # Calculate row index for this MG-train pair\n",
        "\n",
        "        if len(t_MG) > 0:  # Apply constraints if the train is connected to this MG during certain times (the case where the train is not connected has already been handled)\n",
        "            PVprod_dense = np.reshape(np.array(PVprod[0, t_MG].todense()), -1)  # Flatten PV production values for these times\n",
        "            t2YearHour_MG = np.array(t_MG) // 60  # Map each minute to the corresponding hour index\n",
        "            GRIDprice_at_MG = np.take(GRIDprice, t2YearHour_MG)  # Hourly grid prices for relevant minutes\n",
        "            GridCost += cp.sum(cp.multiply(GRID2Train[row_idx, t_MG], GRIDprice_at_MG))  # Accumulate grid cost for train at this MG\n",
        "\n",
        "             # Enforce constraints on the energy flow between MGESS, grid, and train ESS when train is at MG\n",
        "            constraints += [MGESS2Train[row_idx, t_MG] <= MGESSdischargeMAX[m],  # Discharge from MGESS to train is within limit\n",
        "                            MGESSsoc[m, np.array(t_MG) + 1] == MGESSsoc[m, t_MG] + (PV2MGESS[m, t_MG] + GRID2MGESS[m, t_MG]) * (1 - MGESSchargeLoss[MG]) - MGESS2Train[row_idx, t_MG],  # MGESS SoC transition\n",
        "                            PV2MGESS[m, t_MG] + PV2Train[row_idx, t_MG] <= PVprod_dense * PVcap[m],  # Total PV input limited by production\n",
        "                            GRID2MGESS[m, t_MG] + GRID2Train[row_idx, t_MG] <= GRIDprod[MG]]  # Total grid input limited by capacity\n",
        "\n",
        "\n",
        "\n",
        "# Objective function: Minimize investment, grid cost, and maintenance cost\n",
        "objective = cp.Minimize(Investment + CostsCoeff * (GridCost + MaintenanceCost))\n",
        "\n",
        "# Problem definition\n",
        "problem = cp.Problem(objective, constraints)\n",
        "\n",
        "# Solve the problem\n",
        "problem.solve(solver=solver, verbose=True)\n",
        "\n",
        "# Solution status\n",
        "print(f\"-------------------------------------------------------------------------------\")\n",
        "print(f\"                                      Done                                     \")\n",
        "print(f\"-------------------------------------------------------------------------------\")\n",
        "print(\"Solution status: \", problem.status)\n",
        "\n"
      ]
    },
    {
      "cell_type": "code",
      "execution_count": null,
      "metadata": {
        "colab": {
          "base_uri": "https://localhost:8080/"
        },
        "id": "XBc7ycUcnX2r",
        "outputId": "4cd024b4-6d47-4fb9-eeab-f17e6f9c294a"
      },
      "outputs": [
        {
          "name": "stdout",
          "output_type": "stream",
          "text": [
            "===============================================================================\n",
            "Total cost: 1818311.34\n",
            "Grid Cost: 6.77\n",
            "Maintenance Cost: 9570057.21\n",
            "Investment: 1148406.86\n",
            "PVcap (Installed capacity of PV at each MG): \n",
            "     MG1: No capacity installed\n",
            "     MG2: No capacity installed\n",
            "     MG3: No capacity installed\n",
            "     MG4: No capacity installed\n",
            "     MG5: No capacity installed\n",
            "MGESScap (Installed capacity of MGESS at each MG): \n",
            "     MG1: No capacity installed\n",
            "     MG2: 1969.75\n",
            "     MG3: 7600.31\n",
            "     MG4: No capacity installed\n",
            "     MG5: No capacity installed\n",
            "PV2Train (PV energy supplied to trains at each MG):\n",
            "     All entries are zero\n",
            "GRID2Train (Grid energy supplied to trains at each MG):\n",
            "     MG3-Train1:\n",
            "         Times : 60        61        62        63        64        65        66        67        68        69        70        71        72        73        74        75        76        77        78        79        80        81        82        83        84        85        86        87        88        89        90        91        92        93        94        95        96        97        98        99        100       101       102       103       104       105       106       107       108       109       110       111       112       113       114       115       116       117       118       119       120       121       122       123       124       125       126       127       128       129       130       131       132       133       134       135       136       137       138       139       140       141       142       143       144       145       146       147       148       149       150       151       152       153       154       155       156       157       158       159       160       161       162       163       164       165       166       167       168       169       170       171       172       173       174       175       176       177       178       179       180       181       182       183       184       185       186       187       188       189       190       191       192       193       194       195       196       197       198       199       200       201       202       203       204       205       206       207       208       209       210       211       212       213       214       215       216       217       218       219       220       221       222       223       224       225       226       227       228       229       230       231       232       233       234       235       236       237       238       239       240       241       242       243       244       245       246       247       248       249       250       251       252       253       254       255       256       257       258       259       260       261       262       263       264       265       266       267       268       269       270       271       272       273       274       275       276       277       278       279       280       281       282       283       284       285       286       287       288       289       290       291       292       293       294       295       296       297       298       299       300       301       302       303       304       305       306       307       308       309       310       311       312       313       314       315       316       317       318       319       320       321       322       323       324       325       326       327       328       329       330       331       332       333       334       335       336       337       338       339       340       341       342       343       344       345       346       347       348       349       350       351       352       353       354       355       356       357       358       359       360       361       362       363       364       365       366       367       368       369       370       371       372       373       374       375       376       377       378       379       380       381       382       383       384       385       386       387       388       389       390       391       392       393       394       395       396       397       398       399       400       401       402       403       404       405       406       407       408       409       410       411       412       413       414       415       416       417       418       419       420       421       422       423       424       425       426       427       428       429       430       431       432       433       434       435       436       437       438       439       440       441       442       443       444       445       446       447       448       449       450       451       452       453       454       455       456       457       458       459       460       461       462       463       464       465       466       467       468       469       470       471       472       473       474       475       476       477       478       479       480       481       482       483       484       485       486       487       488       489       490       491       492       493       494       495       496       497       498       499       500       501       502       503       504       505       506       507       508       509       510       511       512       513       514       515       516       517       518       519       520       521       522       523       524       525       526       527       528       529      \n",
            "         Values: 0.14      0.14      0.14      0.14      0.14      0.14      0.14      0.14      0.14      0.14      0.14      0.14      0.14      0.14      0.14      0.14      0.14      0.14      0.14      0.14      0.14      0.14      0.14      0.14      0.14      0.14      0.14      0.14      0.14      0.14      0.14      0.14      0.14      0.14      0.14      0.14      0.14      0.14      0.14      0.14      0.14      0.14      0.14      0.14      0.14      0.14      0.14      0.14      0.14      0.14      0.14      0.14      0.14      0.14      0.14      0.14      0.14      0.14      0.14      0.14      0.14      0.14      0.14      0.14      0.14      0.14      0.14      0.14      0.14      0.14      0.14      0.14      0.14      0.14      0.14      0.14      0.14      0.14      0.14      0.14      0.14      0.14      0.14      0.14      0.14      0.14      0.14      0.14      0.14      0.14      0.14      0.14      0.14      0.14      0.14      0.14      0.14      0.14      0.14      0.14      0.14      0.14      0.14      0.14      0.14      0.14      0.14      0.14      0.14      0.14      0.14      0.14      0.14      0.14      0.14      0.14      0.14      0.14      0.14      0.14      0.14      0.14      0.14      0.14      0.14      0.14      0.14      0.14      0.14      0.14      0.14      0.14      0.14      0.14      0.14      0.14      0.14      0.14      0.14      0.14      0.14      0.14      0.14      0.14      0.14      0.14      0.14      0.14      0.14      0.14      0.14      0.14      0.14      0.14      0.14      0.14      0.14      0.14      0.14      0.14      0.14      0.14      0.14      0.14      0.14      0.14      0.14      0.14      0.14      0.14      0.14      0.14      0.14      0.14      0.14      0.14      0.14      0.14      0.14      0.14      0.14      0.14      0.14      0.14      0.14      0.14      0.14      0.14      0.14      0.14      0.14      0.14      0.14      0.14      0.14      0.14      0.14      0.14      0.14      0.14      0.14      0.14      0.14      0.14      0.14      0.14      0.14      0.14      0.14      0.14      0.14      0.14      0.14      0.14      0.14      0.14      0.14      0.14      0.14      0.14      0.14      0.14      0.14      0.14      0.14      0.14      0.14      0.14      0.14      0.14      0.14      0.14      0.14      0.14      0.14      0.14      0.14      0.14      0.14      0.14      0.14      0.14      0.14      0.14      0.14      0.14      0.14      0.14      0.14      0.14      0.14      0.14      0.14      0.14      0.14      0.14      0.14      0.14      0.14      0.14      0.14      0.14      0.14      0.14      0.14      0.14      0.14      0.14      0.14      0.14      0.14      0.14      0.14      0.14      0.14      0.14      0.14      0.14      0.14      0.14      0.14      0.14      0.14      0.14      0.14      0.14      0.14      0.14      0.14      0.14      0.14      0.14      0.14      0.14      0.14      0.14      0.14      0.14      0.14      0.14      0.14      0.14      0.14      0.14      0.14      0.14      0.14      0.14      0.14      0.14      0.14      0.14      0.14      0.14      0.14      0.14      0.14      0.14      0.14      0.14      0.14      0.14      0.14      0.14      0.14      0.14      0.14      0.14      0.14      0.14      0.14      0.14      0.14      0.14      0.14      0.14      0.14      0.14      0.14      0.14      0.14      0.14      0.14      0.14      0.14      0.14      0.14      0.14      0.14      0.14      0.14      0.14      0.14      0.14      0.14      0.14      0.14      0.14      0.14      0.14      0.14      0.14      0.14      0.14      0.14      0.14      0.14      0.14      0.14      0.14      0.14      0.14      0.14      0.14      0.14      0.14      0.14      0.14      0.14      0.14      0.14      0.14      0.14      0.14      0.14      0.14      0.14      0.14      0.14      0.14      0.14      0.14      0.14      0.14      0.14      0.14      0.14      0.14      0.14      0.14      0.14      0.14      0.14      0.14      0.14      0.14      0.14      0.14      0.14      0.14      0.14      0.14      0.14      0.14      0.14      0.14      0.14      0.14      0.14      0.14      0.14      0.14      0.14      0.14      0.14      0.14      0.14      0.14      0.14      0.14      0.14      0.14      0.14      0.14      0.14      0.14      0.14      0.14      0.14      0.14      0.14      0.14      0.14      0.14      0.14      0.14      0.14      0.14      0.14      0.14      0.14      0.14      0.14      0.14      0.14      0.14      0.14      0.14      0.14      0.14      0.14      0.14      0.14      0.14      0.14      0.14      0.14      0.14      0.14      0.14     \n",
            "MGESS2Train (MGESS energy supplied to trains at each MG):\n",
            "     MG2-Train2:\n",
            "         Times : 724       755       756       757       758       759       760       848       849       850       851       852       853       854       855       856       857       858       859       860       861       862       863       864       865       866       867       868       869       870       871       872       873       874       890       891       892       893       894       895       900       901       906       911       912       913       914       915       916       917       918       919       920       921       922       923       924       925       926       927       928       929       930       931       932       933       934       935       936       937       938       939       940       941       942       943       944       945       946       947       948       949       950       951       952       953       954       955       956       957       959      \n",
            "         Values: 14.79     14.79     14.79     14.79     14.79     14.79     14.79     16.41     16.41     16.41     16.41     16.41     16.41     16.41     16.41     16.41     16.41     16.41     16.41     16.41     16.41     16.41     16.41     16.41     16.41     16.41     16.41     16.41     16.41     16.41     16.41     16.41     16.41     16.41     16.41     16.41     16.41     16.41     16.41     16.41     16.41     16.41     16.41     16.41     16.41     16.41     16.41     16.41     16.41     16.41     16.41     16.41     16.41     16.41     16.41     16.41     16.41     16.41     16.41     16.41     16.41     16.41     16.41     3.8       16.41     16.41     16.41     16.41     16.41     16.41     16.41     16.41     16.41     16.41     16.41     16.41     16.41     16.41     16.41     16.41     16.41     16.41     16.41     16.41     16.41     16.41     16.41     16.41     16.41     16.41     16.41    \n",
            "     MG3-Train1:\n",
            "         Times : 63        64        65        66        67        68        69        71        72        73        74        75        76        77        78        79        80        81        82        83        84        85        88        90        91        95        96        97        98        99        100       101       102       103       104       105       106       107       108       109       110       111       112       113       114       116       117       119       121       122       123       124       125       126       127       128       129       130       131       132       133       134       135       136       137       138       139       140       141       142       143       144       145       146       147       148       149       150       151       152       153       154       155       156       157       158       159       160       161       162       163       164       165       166       167       168       169       170       171       172       173       174       175       176       177       178       179       180       181       182       184       185       186       187       188       189       190       191       192       193       194       195       196       197       198       199       200       202       203       204       205       206       207       208       209       210       211       212       213       214       215       216       217       218       219       220       221       222       223       224       225       226       227       228       229       230       231       232       234       235       236       237       238       240       242       243       245       251       255       257       259       261       263       265       267       273       275       279       281       285       287       289       293       295       301       305       315       321       327       329       331       335       339       340       341       342       348       351       355       356       361       362       363       364       365       366       367       368       370       371       380       381       382       387       388       398       399       400       401       404       405       406       408       411       412       413       415       416       417       418       420       421       422       423       424       425       427       428       429       430       431       432       433       436       437       441       444       445       446       447       449       450       452       453       454       455       456       457       458       459       460       461       462       463       464       465       466       467       468       469       470       471       472       473       474       475       476       477       478       479       480       481       482       483       484       485       486       487       488       489       490       491       492       493       494       495       496       497       498       499       500       501       502       503       504       505       506       507       508       509       510       511       512       513       514       515       516       517       518       519       520       521       522       523       524       525       526       527       528       529      \n",
            "         Values: 0.27      0.27      0.27      0.27      0.27      1.21      1.21      1.21      1.21      1.21      1.21      0.27      0.27      0.27      1.21      1.21      1.21      1.21      1.21      7.36      14.65     1.21      1.21      1.21      1.21      1.21      1.21      1.21      1.21      1.21      1.21      7.36      7.36      1.21      1.21      1.21      1.21      1.21      1.21      1.21      1.21      1.21      7.36      1.21      1.21      14.65     14.65     14.65     1.21      7.36      7.36      7.36      1.21      1.21      7.36      7.36      1.21      1.21      1.21      1.21      1.21      1.21      1.21      1.21      1.21      1.21      7.36      1.21      1.21      1.21      1.21      1.21      1.21      1.21      1.21      1.21      1.21      1.21      1.21      1.21      1.21      1.21      1.21      1.21      1.21      1.21      1.21      1.21      1.21      1.21      1.21      1.21      1.21      1.21      1.21      1.21      1.21      1.21      1.21      1.21      1.21      1.21      1.21      1.21      1.21      1.21      1.21      1.21      1.21      1.21      1.21      1.21      1.21      1.21      1.21      1.21      1.21      1.21      1.21      1.21      1.21      1.21      1.21      1.21      1.21      1.21      1.21      1.21      1.21      1.21      1.21      1.21      1.21      21.42     40.79     40.79     40.79     40.79     40.79     40.79     40.79     40.79     40.79     40.79     40.79     40.79     40.79     40.79     40.79     40.79     40.79     40.79     40.79     40.79     40.79     40.79     40.79     40.79     40.79     40.79     40.79     40.79     40.79     40.79     40.79     7.55      40.79     40.79     40.79     7.36      7.36      40.79     40.79     40.79     7.36      40.79     40.79     40.79     40.79     40.79     40.79     40.79     40.79     40.79     40.79     40.79     40.79     40.79     40.79     40.79     40.79     40.79     40.79     40.79     40.79     40.79     40.79     40.79     7.36      1.21      0.27      0.27      1.21      1.21      1.21      1.21      1.21      7.36      7.36      7.36      1.21      1.21      7.36      4.23      1.21      40.79     40.79     40.79     40.79     40.79     40.79     40.79     40.79     40.79     40.79     40.79     40.79     40.79     40.79     40.79     40.79     40.79     40.79     40.79     40.79     40.79     40.79     40.79     40.79     40.79     40.79     40.79     40.79     40.79     40.79     40.79     40.79     40.79     40.79     40.79     40.79     40.79     40.79     40.79     40.79     40.79     40.79     40.79     40.79     40.79     40.79     40.79     40.79     40.79     40.79     40.79     40.79     40.79     40.79     40.79     40.79     40.79     40.79     40.79     40.79     40.79     40.79     40.79     40.79     40.79     40.79     40.79     40.79     40.79     40.79     40.79     40.79     40.79     40.79     40.79     40.79     40.79     40.79     40.79     40.79     40.79     40.79     40.79     40.79     40.79     40.79     40.79     40.79     1.21      1.21      1.21      29.96     29.96     1.21      1.21      1.21      14.65     1.21      1.21      1.21      1.21      1.21      7.36      29.96     40.79     53.71     53.71     63.34     63.34     63.34     63.34     41.63     40.79     40.79     40.79    \n",
            "MG2TrainESS (Energy transferred from MG to Train ESS at each MG):\n",
            "     All entries are zero\n",
            "TrainESSsoc (SoC of Train ESS):\n",
            "     Train1:\n",
            "         Times : 0         1         2         3         4         5         6         7         8         9         10        11        12        13        14        15        16        17        18        19        20        21        22        23        24        25        26        27        28        29        30        31        32        33        34        35        36        37        38        39        40        41        42        43        44        45        46        47        48        49        50        51        52        53        54        55        56        57        58        59        60        61        62        63        64        65        66        67        68        69        70        71        72        73        74        75        76        77        78        79        80        81        82        83        84        85        86        87        88        89        90        91        92        93        94        95        96        97        98        99        100       101       102       103       104       105       106       107       108       109       110       111       112       113       114       115       116       117       118       119       120       121       122       123       124       125       126       127       128       129       130       131       132       133       134       135       136       137       138       139       140       141       142       143       144       145       146       147       148       149       150       151       152       153       154       155       156       157       158       159       160       161       162       163       164       165       166       167       168       169       170       171       172       173       174       175       176       177       178       179       180       181       182       183       184       185       186       187       188       189       190       191       192       193       194       195       196       197       198       199       200       201       202       203       204       205       206       207       208       209       210       211       212       213       214       215       216       217       218       219       220       221       222       223       224       225       226       227       228       229       230       231       232       233       234       235       236       237       238       239       240       241       242       243       244       245       246       247       248       249       250       251       252       253       254       255       256       257       258       259       260       261       262       263       264       265       266       267       268       269       270       271       272       273       274       275       276       277       278       279       280       281       282       283       284       285       286       287       288       289       290       291       292       293       294       295       296       297       298       299       300       301       302       303       304       305       306       307       308       309       310       311       312       313       314       315       316       317       318       319       320       321       322       323       324       325       326       327       328       329       330       331       332       333       334       335       336       337       338       339       340       341       342       343       344       345       346       347       348       349       350       351       352       353       354       355       356       357       358       359       360       361       362       363       364       365       366       367       368       369       370       371       372       373       374       375       376       377       378       379       380       381       382       383       384       385       386       387       388       389       390       391       392       393       394       395       396       397       398       399       400       401       402       403       404       405       406       407       408       409       410       411       412       413       414       415       416       417       418       419       420       421       422       423       424       425       426       427       428       429       430       431       432       433       434       435       436       437       438       439       440       441       442       443       444       445       446       447       448       449       450       451       452       453       454       455       456       457       458       459       460       461       462       463       464       465       466       467       468       469       470       471       472       473       474       475       476       477       478       479       480       481       482       483       484       485       486       487       488       489       490       491       492       493       494       495       496       497       498       499       500       501       502       503       504       505       506       507       508       509       510       511       512       513       514       515       516       517       518       519       520       521       522       523       524       525       526       527       528       529       530       531       532       533       534       535       536       537       538       539       540       541       542       543       544       545       546       547       548       549       550       551       552       553       554       555       556       557       558       559       560       561       562       563       564       565       566       567       568       569       570       571       572       573       574       575       576       577       578       579       580       581       582       583       584       585       586       587       588       589       590       591       592       593       594       595       596       597       598       599       600       601       602       603       604       605       606       607       608       609       610       611       612       613       614       615       616       617       618       619       620       621       622       623       624       625       626       627       628       629       630       631       632       633       634       635       636       637       638       639       640       641       642       643       644       645       646       647       648       649       650       651       652       653       654       655       656       657       658       659       660       661       662       663       664       665       666       667       668       669       670       671       672       673       674       675       676       677       678       679       680       681       682       683       684       685       686       687       688       689       690       691       692       693       694       695       696       697       698       699       700       701       702       703       704       705       706       707       708       709       710       711       712       713       714       715       716       717       718       719       720       721       722       723       724       725       726       727       728       729       730       731       732       733       734       735       736       737       738       739       740       741       742       743       744       745       746       747       748       749       750       751       752       753       754       755       756       757       758       759       760       761       762       763       764       765       766       767       768       769       770       771       772       773       774       775       776       777       778       779       780       781       782       783       784       785       786       787       788       789       790       791       792       793       794       795       796       797       798       799       800       801       802       803       804       805       806       807       808       809       810       811       812       813       814       815       816       817       818       819       820       821       822       823       824       825       826       827       828       829       830       831       832       833       834       835       836       837       838       839       840       841       842       843       844       845       846       847       848       849       850       851       852       853       854       855       856       857       858       859       860       861       862       863       864       865       866       867       868       869       870       871       872       873       874       875       876       877       878       879       880       881       882       883       884       885       886       887       888       889       890       891       892       893       894       895       896       897       898       899       900       901       902       903       904       905       906       907       908       909       910       911       912       913       914       915       916       917       918       919       920       921       922       923       924       925       926       927       928       929       930       931       932       933       934       935       936       937       938       939       940       941       942       943       944       945       946       947       948       949       950       951       952       953       954       955       956       957       958       959       960       961       962       963       964       965       966       967       968       969       970       971       972       973       974       975       976       977       978       979       980       981       982       983       984       985       986       987       988       989       990       991       992       993       994       995       996       997       998       999      \n",
            "         Values: 5000.0    5000.0    5000.0    5000.0    5000.0    5000.0    5000.0    5000.0    5000.0    5000.0    5000.0    5000.0    5000.0    5000.0    5000.0    5000.0    5000.0    5000.0    5000.0    5000.0    5000.0    5000.0    5000.0    5000.0    5000.0    5000.0    5000.0    5000.0    5000.0    5000.0    5000.0    5000.0    5000.0    5000.0    5000.0    5000.0    5000.0    5000.0    5000.0    5000.0    5000.0    5000.0    5000.0    5000.0    5000.0    5000.0    5000.0    5000.0    5000.0    5000.0    5000.0    5000.0    5000.0    5000.0    5000.0    5000.0    5000.0    5000.0    5000.0    5000.0    4998.79   4997.58   4996.37   5007.99   5019.6    5028.34   5039.95   5051.57   5051.57   5051.57   5050.36   5050.36   5050.36   5050.36   5050.36   5051.4    5057.31   5063.22   5063.22   5063.22   5063.22   5063.22   5063.22   5063.22   5063.22   5063.22   5062.01   5060.8    5060.8    5059.59   5059.59   5059.59   5058.38   5057.17   5055.96   5055.96   5055.96   5055.96   5055.96   5055.96   5055.96   5055.96   5055.96   5055.96   5055.96   5055.96   5055.96   5055.96   5055.96   5055.96   5055.96   5055.96   5055.96   5055.96   5055.96   5041.32   5041.32   5041.32   5026.67   5026.67   5012.02   5012.02   5012.02   5012.02   5012.02   5012.02   5012.02   5012.02   5012.02   5012.02   5012.02   5012.02   5012.02   5012.02   5012.02   5012.02   5012.02   5012.02   5012.02   5012.02   5012.02   5012.02   5012.02   5012.02   5012.02   5012.02   5012.02   5012.02   5012.02   5012.02   5012.02   5012.02   5012.02   5012.02   5012.02   5012.02   5012.02   5012.02   5012.02   5012.02   5012.02   5012.02   5012.02   5012.02   5012.02   5012.02   5012.02   5012.02   5012.02   5012.02   5012.02   5012.02   5012.02   5012.02   5012.02   5012.02   5012.02   5012.02   5012.02   5012.02   5012.02   5012.02   5012.02   5010.81   5010.81   5010.81   5010.81   5010.81   5010.81   5010.81   5010.81   5010.81   5010.81   5010.81   5010.81   5010.81   5010.81   5010.81   5010.81   5010.81   5010.81   5009.6    5009.6    5009.6    5009.6    5009.6    5009.6    5009.6    5009.6    5009.6    5009.6    5009.6    5009.6    5009.6    5009.6    5009.6    5009.6    5009.6    5009.6    5009.6    5009.6    5009.6    5009.6    5009.6    5009.6    5009.6    5009.6    5009.6    5009.6    5009.6    5009.6    5009.6    5009.6    4968.81   4968.81   4968.81   4968.81   4968.81   4968.81   4928.01   4928.01   4887.22   4887.22   4853.97   4813.18   4813.18   4772.39   4731.59   4690.8    4650.01   4609.21   4609.21   4568.42   4527.63   4486.83   4486.83   4479.48   4479.48   4472.12   4472.12   4431.33   4431.33   4390.53   4390.53   4349.74   4349.74   4308.95   4308.95   4301.59   4294.24   4286.88   4246.09   4205.29   4205.29   4164.5    4164.5    4123.71   4082.91   4042.12   4042.12   4001.33   4001.33   3960.53   3919.74   3878.95   3878.95   3838.15   3838.15   3797.36   3797.36   3756.57   3715.77   3674.98   3674.98   3634.19   3634.19   3593.39   3552.6    3511.81   3471.01   3430.22   3430.22   3389.42   3348.63   3307.84   3307.84   3267.04   3226.25   3185.46   3144.66   3103.87   3063.08   3022.28   2981.49   2940.7    2940.7    2899.9    2859.11   2818.32   2777.52   2736.73   2736.73   2695.94   2655.14   2614.35   2573.56   2532.76   2532.76   2491.97   2491.97   2451.18   2451.18   2410.38   2369.59   2328.8    2328.8    2288.0    2247.21   2206.42   2206.42   2206.42   2206.42   2206.42   2165.62   2124.83   2084.04   2043.24   2002.45   2002.45   1961.66   1920.86   1920.86   1880.07   1878.86   1848.9    1848.9    1848.9    1849.66   1861.01   1872.35   1883.69   1895.31   1895.31   1895.31   1895.31   1895.31   1895.31   1895.31   1895.31   1887.95   1887.95   1887.95   1886.74   1885.53   1884.32   1883.11   1881.9    1880.69   1879.48   1878.27   1878.27   1878.27   1878.27   1879.04   1879.8    1885.44   1891.08   1891.08   1891.08   1889.87   1888.66   1887.45   1886.24   1885.03   1883.82   1882.61   1881.4    1880.19   1880.19   1880.19   1880.19   1880.19   1839.4    1798.61   1798.61   1798.61   1798.61   1757.81   1757.81   1717.02   1676.23   1676.23   1676.23   1676.23   1635.43   1635.43   1635.43   1635.43   1635.43   1594.64   1594.64   1594.64   1594.64   1594.64   1594.64   1594.64   1553.85   1553.85   1553.85   1553.85   1553.85   1553.85   1553.85   1553.85   1513.05   1472.26   1472.26   1472.26   1431.47   1390.67   1349.88   1349.88   1309.09   1268.29   1268.29   1268.29   1268.29   1268.29   1227.5    1227.5    1227.5    1186.7    1186.7    1186.7    1186.7    1186.7    1186.7    1186.7    1186.7    1186.7    1186.7    1186.7    1186.7    1186.7    1186.7    1186.7    1186.7    1186.7    1186.7    1186.7    1186.7    1186.7    1186.7    1186.7    1186.7    1186.7    1186.7    1186.7    1186.7    1186.7    1186.7    1186.7    1186.7    1186.7    1186.7    1186.7    1186.7    1186.7    1186.7    1186.7    1186.7    1186.7    1186.7    1186.7    1186.7    1186.7    1186.7    1186.7    1186.7    1186.7    1186.7    1186.7    1186.7    1186.7    1186.7    1186.7    1186.7    1186.7    1186.7    1186.7    1186.7    1186.7    1186.7    1186.7    1186.7    1186.7    1186.7    1186.7    1186.7    1186.7    1186.7    1186.7    1181.33   1175.96   1170.58   1165.21   1165.21   1165.21   1165.21   1165.21   1135.1    1133.75   1132.4    1131.04   1129.69   1128.33   1126.98   1125.63   1124.27   1122.92   1121.56   1120.21   1118.85   1117.5    1116.15   1114.79   1113.44   1112.08   1110.73   1109.38   1108.02   1106.67   1105.31   1103.96   1102.6    1101.25   1099.9    1098.54   1097.19   1095.83   1094.48   1093.13   1091.77   1090.42   1089.06   1087.71   1086.35   1085.0    1083.65   1082.29   1080.94   1079.58   1078.23   1076.88   1075.52   1074.17   1072.81   1071.46   1070.1    1068.75   1067.4    1066.04   1064.69   1063.33   1061.98   1060.63   1059.27   1057.92   1056.56   1055.21   1053.85   1052.5    1051.15   1049.79   1048.44   1047.08   1045.73   1044.38   1043.02   1041.67   1040.31   1038.96   1037.6    1036.25   1034.9    1033.54   1032.19   1030.83   1029.48   1028.13   1026.77   1025.42   1024.06   1022.71   1021.35   1020.0    1018.65   1017.29   1015.94   1014.58   1013.23   1011.88   1010.52   1009.17   1007.81   1006.46   1005.1    1003.75   1002.4    1001.04   999.69    998.33    996.98    995.63    994.27    992.92    991.56    990.21    988.85    987.5     986.15    984.79    983.44    982.08    980.73    979.38    978.02    976.67    975.31    973.96    972.6     971.25    969.9     968.54    967.19    965.83    964.48    963.13    961.77    960.42    959.06    957.71    956.35    955.0     953.65    952.29    950.94    949.58    948.23    946.88    945.52    944.17    942.81    941.46    940.1     938.75    937.4     936.04    934.69    933.33    931.98    930.63    929.27    927.92    926.56    925.21    923.85    922.5     921.15    919.79    918.44    917.08    915.73    914.38    913.02    911.67    910.31    908.96    907.6     906.25    904.9     903.54    902.19    900.83    899.48    898.13    896.77    895.42    894.06    892.71    891.35    890.0     888.65    887.29    885.94    884.58    883.23    881.88    880.52    879.17    877.81    876.46    875.1     873.75    872.4     871.04    869.69    868.33    866.98    865.63    864.27    862.92    861.56    860.21    858.85    857.5     856.15    854.79    853.44    852.08    850.73    849.38    848.02    846.67    845.31    843.96    842.6     841.25    839.9     838.54    837.19    835.83    834.48    833.13    831.77    830.42    829.06    827.71    826.35    825.0     823.65    822.29    820.94    819.58    818.23    816.88    815.52    814.17    812.81    811.46    810.1     808.75    807.4     806.04    804.69    803.33    801.98    800.63    799.27    797.92    796.56    795.21    793.85    792.5     791.15    789.79    788.44    787.08    785.73    784.38    783.02    781.67    780.31    778.96    777.6     776.25    774.9     773.54    772.19    770.83    769.48    768.13    766.77    765.42    764.06    762.71    761.35    760.0     758.65    757.29    755.94    754.58    753.23    751.88    750.52    749.17    747.81    746.46    745.1     743.75    742.4     741.04    739.69    738.33    736.98    735.63    734.27    732.92    731.56    730.21    728.85    727.5     726.15    724.79    723.44    722.08    720.73    719.38    718.02    716.67    715.31    713.96    712.6     711.25    709.9     708.54    707.19    705.83    704.48    703.13    701.77    700.42    699.06    697.71    696.35    695.0     693.65    692.29    690.94    689.58    688.23    686.88    685.52    684.17    682.81    681.46    680.1     678.75    677.4     676.04    674.69    673.33    671.98    670.63    669.27    667.92    666.56    665.21    663.85    662.5     661.15    659.79    658.44    657.08    655.73    654.38    653.02    651.67    650.31    648.96    647.6     646.25    644.9     643.54    642.19    640.83    639.48    638.13    636.77    635.42    634.06    632.71    631.35    630.0     628.65    627.29    625.94    624.58    623.23    621.88    620.52    619.17    617.81    616.46    615.1     613.75    612.4     611.04    609.69    608.33    606.98    605.63    604.27    602.92    601.56    600.21    598.85    597.5     596.15    594.79    593.44    592.08    590.73    589.38    588.02    586.67    585.31    583.96    582.6     581.25    579.9     578.54    577.19    575.83    574.48    573.13    571.77    570.42    569.06    567.71    566.35    565.0     563.65    562.29    560.94    559.58    558.23    556.88    555.52    554.17    552.81    551.46    550.1     548.75    547.4     546.04    544.69    543.33    541.98    540.63    539.27    537.92    536.56    535.21    533.85    532.5     531.15    529.79    528.44    527.08    525.73    524.38    523.02    521.67    520.31    518.96    517.6     516.25    514.9     513.54    512.19    510.83    509.48    508.13    506.77    505.42    504.06    502.71    501.35    500.0    \n",
            "     Train2:\n",
            "         Times : 0         1         2         3         4         5         6         7         8         9         10        11        12        13        14        15        16        17        18        19        20        21        22        23        24        25        26        27        28        29        30        31        32        33        34        35        36        37        38        39        40        41        42        43        44        45        46        47        48        49        50        51        52        53        54        55        56        57        58        59        60        61        62        63        64        65        66        67        68        69        70        71        72        73        74        75        76        77        78        79        80        81        82        83        84        85        86        87        88        89        90        91        92        93        94        95        96        97        98        99        100       101       102       103       104       105       106       107       108       109       110       111       112       113       114       115       116       117       118       119       120       121       122       123       124       125       126       127       128       129       130       131       132       133       134       135       136       137       138       139       140       141       142       143       144       145       146       147       148       149       150       151       152       153       154       155       156       157       158       159       160       161       162       163       164       165       166       167       168       169       170       171       172       173       174       175       176       177       178       179       180       181       182       183       184       185       186       187       188       189       190       191       192       193       194       195       196       197       198       199       200       201       202       203       204       205       206       207       208       209       210       211       212       213       214       215       216       217       218       219       220       221       222       223       224       225       226       227       228       229       230       231       232       233       234       235       236       237       238       239       240       241       242       243       244       245       246       247       248       249       250       251       252       253       254       255       256       257       258       259       260       261       262       263       264       265       266       267       268       269       270       271       272       273       274       275       276       277       278       279       280       281       282       283       284       285       286       287       288       289       290       291       292       293       294       295       296       297       298       299       300       301       302       303       304       305       306       307       308       309       310       311       312       313       314       315       316       317       318       319       320       321       322       323       324       325       326       327       328       329       330       331       332       333       334       335       336       337       338       339       340       341       342       343       344       345       346       347       348       349       350       351       352       353       354       355       356       357       358       359       360       361       362       363       364       365       366       367       368       369       370       371       372       373       374       375       376       377       378       379       380       381       382       383       384       385       386       387       388       389       390       391       392       393       394       395       396       397       398       399       400       401       402       403       404       405       406       407       408       409       410       411       412       413       414       415       416       417       418       419       420       421       422       423       424       425       426       427       428       429       430       431       432       433       434       435       436       437       438       439       440       441       442       443       444       445       446       447       448       449       450       451       452       453       454       455       456       457       458       459       460       461       462       463       464       465       466       467       468       469       470       471       472       473       474       475       476       477       478       479       480       481       482       483       484       485       486       487       488       489       490       491       492       493       494       495       496       497       498       499       500       501       502       503       504       505       506       507       508       509       510       511       512       513       514       515       516       517       518       519       520       521       522       523       524       525       526       527       528       529       530       531       532       533       534       535       536       537       538       539       540       541       542       543       544       545       546       547       548       549       550       551       552       553       554       555       556       557       558       559       560       561       562       563       564       565       566       567       568       569       570       571       572       573       574       575       576       577       578       579       580       581       582       583       584       585       586       587       588       589       590       591       592       593       594       595       596       597       598       599       600       601       602       603       604       605       606       607       608       609       610       611       612       613       614       615       616       617       618       619       620       621       622       623       624       625       626       627       628       629       630       631       632       633       634       635       636       637       638       639       640       641       642       643       644       645       646       647       648       649       650       651       652       653       654       655       656       657       658       659       660       661       662       663       664       665       666       667       668       669       670       671       672       673       674       675       676       677       678       679       680       681       682       683       684       685       686       687       688       689       690       691       692       693       694       695       696       697       698       699       700       701       702       703       704       705       706       707       708       709       710       711       712       713       714       715       716       717       718       719       720       721       722       723       724       725       726       727       728       729       730       731       732       733       734       735       736       737       738       739       740       741       742       743       744       745       746       747       748       749       750       751       752       753       754       755       756       757       758       759       760       761       762       763       764       765       766       767       768       769       770       771       772       773       774       775       776       777       778       779       780       781       782       783       784       785       786       787       788       789       790       791       792       793       794       795       796       797       798       799       800       801       802       803       804       805       806       807       808       809       810       811       812       813       814       815       816       817       818       819       820       821       822       823       824       825       826       827       828       829       830       831       832       833       834       835       836       837       838       839       840       841       842       843       844       845       846       847       848       849       850       851       852       853       854       855       856       857       858       859       860       861       862       863       864       865       866       867       868       869       870       871       872       873       874       875       876       877       878       879       880       881       882       883       884       885       886       887       888       889       890       891       892       893       894       895       896       897       898       899       900       901       902       903       904       905       906       907       908       909       910       911       912       913       914       915       916       917       918       919       920       921       922       923       924       925       926       927       928       929       930       931       932       933       934       935       936       937       938       939       940       941       942       943       944       945       946       947       948       949       950       951       952       953       954       955       956       957       958       959       960       961       962       963       964       965       966       967       968       969       970       971       972       973       974       975       976       977       978       979       980       981       982       983       984       985       986       987       988       989       990       991       992       993       994       995       996       997       998       999      \n",
            "         Values: 5000.0    5000.0    5000.0    5000.0    5000.0    5000.0    5000.0    5000.0    5000.0    5000.0    5000.0    5000.0    5000.0    5000.0    5000.0    5000.0    5000.0    5000.0    5000.0    5000.0    5000.0    5000.0    5000.0    5000.0    5000.0    5000.0    5000.0    5000.0    5000.0    5000.0    5000.0    5000.0    5000.0    5000.0    5000.0    5000.0    5000.0    5000.0    5000.0    5000.0    5000.0    5000.0    5000.0    5000.0    5000.0    5000.0    5000.0    5000.0    5000.0    5000.0    5000.0    5000.0    5000.0    5000.0    5000.0    5000.0    5000.0    5000.0    5000.0    5000.0    5000.0    5000.0    5000.0    5000.0    5000.0    5000.0    5000.0    5000.0    5000.0    5000.0    5000.0    5000.0    5000.0    5000.0    5000.0    5000.0    5000.0    5000.0    5000.0    5000.0    5000.0    5000.0    5000.0    5000.0    5000.0    5000.0    5000.0    5000.0    5000.0    5000.0    5000.0    5000.0    5000.0    5000.0    5000.0    5000.0    5000.0    5000.0    5000.0    5000.0    5000.0    5000.0    5000.0    5000.0    5000.0    5000.0    5000.0    5000.0    5000.0    5000.0    5000.0    5000.0    5000.0    5000.0    5000.0    5000.0    5000.0    5000.0    5000.0    5000.0    5000.0    5000.0    5000.0    5000.0    5000.0    5000.0    5000.0    5000.0    5000.0    5000.0    5000.0    5000.0    5000.0    5000.0    5000.0    5000.0    5000.0    5000.0    5000.0    5000.0    5000.0    5000.0    5000.0    5000.0    5000.0    5000.0    5000.0    5000.0    5000.0    5000.0    5000.0    5000.0    5000.0    5000.0    5000.0    5000.0    5000.0    5000.0    5000.0    5000.0    5000.0    5000.0    5000.0    5000.0    5000.0    5000.0    5000.0    5000.0    5000.0    5000.0    5000.0    5000.0    5000.0    5000.0    5000.0    5000.0    5000.0    5000.0    5000.0    5000.0    5000.0    5000.0    5000.0    5000.0    5000.0    5000.0    5000.0    5000.0    5000.0    5000.0    5000.0    5000.0    5000.0    5000.0    5000.0    5000.0    5000.0    5000.0    5000.0    5000.0    5000.0    5000.0    5000.0    5000.0    5000.0    5000.0    5000.0    5000.0    5000.0    5000.0    5000.0    5000.0    5000.0    5000.0    5000.0    5000.0    5000.0    5000.0    5000.0    5000.0    5000.0    5000.0    5000.0    5000.0    5000.0    5000.0    5000.0    5000.0    5000.0    5000.0    5000.0    5000.0    5000.0    5000.0    5000.0    5000.0    5000.0    5000.0    5000.0    5000.0    5000.0    5000.0    5000.0    5000.0    5000.0    5000.0    5000.0    5000.0    5000.0    5000.0    5000.0    5000.0    5000.0    5000.0    5000.0    5000.0    5000.0    5000.0    5000.0    5000.0    5000.0    5000.0    5000.0    5000.0    5000.0    5000.0    5000.0    5000.0    5000.0    5000.0    5000.0    5000.0    5000.0    5000.0    5000.0    5000.0    5000.0    5000.0    5000.0    5000.0    5000.0    5000.0    5000.0    5000.0    5000.0    5000.0    5000.0    5000.0    5000.0    5000.0    5000.0    5000.0    5000.0    5000.0    5000.0    5000.0    5000.0    5000.0    5000.0    5000.0    5000.0    5000.0    5000.0    5000.0    5000.0    5000.0    5000.0    5000.0    5000.0    5000.0    5000.0    5000.0    5000.0    5000.0    5000.0    5000.0    5000.0    5000.0    5000.0    5000.0    5000.0    5000.0    5000.0    5000.0    5000.0    5000.0    5000.0    5000.0    5000.0    5000.0    5000.0    5000.0    5000.0    5000.0    5000.0    5000.0    5000.0    5000.0    5000.0    5000.0    5000.0    5000.0    5000.0    5000.0    5000.0    5000.0    5000.0    5000.0    5000.0    5000.0    5000.0    5000.0    5000.0    5000.0    5000.0    5000.0    5000.0    5000.0    5000.0    5000.0    5000.0    5000.0    5000.0    5000.0    5000.0    5000.0    5000.0    5000.0    5000.0    5000.0    5000.0    5000.0    5000.0    5000.0    5000.0    5000.0    5000.0    5000.0    5000.0    5000.0    5000.0    5000.0    5000.0    5000.0    5000.0    5000.0    5000.0    5000.0    5000.0    5000.0    5000.0    5000.0    5000.0    5000.0    5000.0    5000.0    5000.0    5000.0    5000.0    5000.0    5000.0    5000.0    5000.0    5000.0    5000.0    5000.0    5000.0    5000.0    5000.0    5000.0    5000.0    5000.0    5000.0    5000.0    5000.0    5000.0    5000.0    5000.0    5000.0    5000.0    5000.0    5000.0    5000.0    5000.0    5000.0    5000.0    5000.0    5000.0    5000.0    5000.0    5000.0    5000.0    5000.0    5000.0    5000.0    5000.0    5000.0    5000.0    5000.0    5000.0    5000.0    5000.0    5000.0    5000.0    5000.0    5000.0    5000.0    5000.0    5000.0    5000.0    5000.0    5000.0    5000.0    5000.0    5000.0    5000.0    5000.0    5000.0    5000.0    5000.0    5000.0    5000.0    5000.0    5000.0    5000.0    5000.0    5000.0    5000.0    5000.0    5000.0    5000.0    5000.0    5000.0    5000.0    5000.0    5000.0    5000.0    5000.0    5000.0    5000.0    5000.0    5000.0    5000.0    5000.0    5000.0    5000.0    5000.0    5000.0    5000.0    5000.0    5000.0    5000.0    5000.0    5000.0    5000.0    5000.0    5000.0    5000.0    5000.0    5000.0    5000.0    5000.0    5000.0    5000.0    5000.0    5000.0    5000.0    5000.0    5000.0    5000.0    5000.0    5000.0    5000.0    5000.0    5000.0    5000.0    5000.0    5000.0    5000.0    5000.0    5000.0    5000.0    5000.0    5000.0    5000.0    5000.0    5000.0    5000.0    5000.0    5000.0    5000.0    5000.0    5000.0    5000.0    5000.0    5000.0    5000.0    5000.0    5000.0    5000.0    5000.0    5000.0    5000.0    5000.0    5000.0    5000.0    5000.0    5000.0    5000.0    5000.0    5000.0    5000.0    5000.0    5000.0    5000.0    5000.0    5000.0    5000.0    5000.0    5000.0    5000.0    5000.0    5000.0    5000.0    5000.0    5000.0    5000.0    5000.0    5000.0    5000.0    5000.0    5000.0    5000.0    5000.0    5000.0    5000.0    5000.0    5000.0    5000.0    5000.0    5000.0    5000.0    5000.0    5000.0    5000.0    5000.0    5000.0    5000.0    5000.0    5000.0    5000.0    5000.0    5000.0    5000.0    5000.0    5000.0    5000.0    5000.0    5000.0    5000.0    5000.0    5000.0    5000.0    5000.0    5000.0    5000.0    5000.0    5000.0    5000.0    5000.0    5000.0    5000.0    5000.0    5000.0    5000.0    5000.0    5000.0    5000.0    5000.0    5000.0    5000.0    5000.0    5000.0    5000.0    5000.0    5000.0    5000.0    5000.0    5000.0    5000.0    5000.0    5000.0    5000.0    5000.0    5000.0    5000.0    5000.0    5000.0    5000.0    5000.0    5000.0    5000.0    5000.0    5000.0    5000.0    5000.0    5000.0    5000.0    5000.0    5000.0    5000.0    5000.0    5000.0    5000.0    5000.0    5000.0    5000.0    5000.0    5000.0    5000.0    5000.0    5000.0    5000.0    5000.0    5000.0    5000.0    5000.0    5000.0    5000.0    5000.0    5000.0    5000.0    5000.0    5000.0    5000.0    5000.0    5000.0    5000.0    5000.0    5000.0    5000.0    5000.0    5000.0    5000.0    5000.0    5000.0    5000.0    5000.0    5000.0    5000.0    5000.0    5000.0    5000.0    5000.0    5000.0    5000.0    5000.0    5000.0    5000.0    5000.0    4998.65   4997.29   4995.94   5007.14   5018.34   5026.66   5037.85   5049.05   5047.7    5046.35   5044.99   5043.64   5042.28   5040.93   5039.58   5040.2    5045.69   5051.19   5049.83   5048.48   5047.13   5045.77   5044.42   5036.92   5036.92   5035.56   5034.21   5032.86   5031.5    5030.15   5028.79   5027.44   5026.08   5024.73   5023.38   5022.02   5020.67   5019.31   5017.96   5016.61   5015.25   5007.75   5000.25   4998.9    4997.54   4996.19   4994.83   4993.48   4992.13   4990.77   4989.42   4988.06   4980.56   4979.21   4977.86   4977.86   4977.86   4977.86   4977.86   4977.86   4977.86   4976.5    4969.0    4961.5    4954.0    4952.65   4951.29   4943.79   4936.29   4934.94   4933.58   4932.23   4930.88   4929.52   4928.17   4926.81   4925.46   4924.11   4922.75   4915.25   4913.9    4912.54   4911.19   4909.83   4908.48   4907.13   4905.77   4904.42   4903.06   4901.71   4900.36   4899.0    4897.65   4896.29   4894.94   4893.58   4892.23   4890.88   4889.52   4888.17   4886.81   4885.46   4884.11   4882.75   4881.4    4880.04   4878.69   4877.33   4875.98   4874.63   4873.27   4871.92   4870.56   4869.21   4867.86   4866.5    4865.15   4863.79   4862.44   4861.08   4859.73   4858.38   4857.02   4855.67   4854.31   4852.96   4851.61   4850.25   4848.9    4847.54   4846.19   4844.83   4843.48   4842.13   4840.77   4839.42   4838.06   4836.71   4835.36   4834.0    4832.65   4831.29   4829.94   4828.58   4827.23   4825.88   4824.52   4823.17   4818.02   4793.5    4768.97   4744.45   4719.93   4695.41   4670.88   4646.36   4621.84   4597.31   4572.79   4548.27   4523.75   4499.22   4474.7    4450.18   4425.65   4401.13   4376.61   4352.08   4327.56   4303.04   4278.52   4253.99   4229.47   4204.95   4180.42   4139.49   4098.55   4057.61   4016.67   3975.74   3934.8    3893.86   3852.92   3811.99   3771.05   3730.11   3689.17   3648.24   3607.3    3566.36   3541.84   3517.32   3492.79   3468.27   3443.75   3419.22   3411.72   3404.22   3396.72   3389.22   3364.7    3340.18   3299.24   3258.3    3217.37   3176.43   3151.91   3144.41   3136.91   3129.41   3121.91   3097.38   3072.86   3048.34   3023.81   2999.29   2974.77   2950.24   2925.72   2901.2    2876.68   2852.15   2827.63   2803.11   2778.58   2754.06   2729.54   2705.02   2680.49   2655.97   2631.45   2594.31   2569.78   2545.26   2520.74   2496.21   2471.69   2447.17   2422.65   2398.12   2373.6    2349.08   2324.55   2300.03   2275.51   2250.99   2226.46   2201.94   2177.42   2152.89   2128.37   2103.85   2079.33   2054.8    2030.28   2005.76   1981.23   1956.71   1915.77   1891.25   1850.31   1809.38   1768.44   1727.5    1686.56   1645.63   1604.69   1563.75   1522.81   1481.88   1440.94   1400.0    1359.06   1318.12   1277.19   1236.25   1195.31   1154.38   1113.44   1072.5    1031.56   990.62    949.69    908.75    867.81    826.88    785.94    745.0     704.06    663.12    622.19    581.25    540.31    538.96    508.85    501.35    500.0     500.62    511.82    523.02   \n",
            "     Train3:\n",
            "         Times : 0         1         2         3         4         5         6         7         8         9         10        11        12        13        14        15        16        17        18        19        20        21        22        23        24        25        26        27        28        29        30        31        32        33        34        35        36        37        38        39        40        41        42        43        44        45        46        47        48        49        50        51        52        53        54        55        56        57        58        59        60        61        62        63        64        65        66        67        68        69        70        71        72        73        74        75        76        77        78        79        80        81        82        83        84        85        86        87        88        89        90        91        92        93        94        95        96        97        98        99        100       101       102       103       104       105       106       107       108       109       110       111       112       113       114       115       116       117       118       119       120       121       122       123       124       125       126       127       128       129       130       131       132       133       134       135       136       137       138       139       140       141       142       143       144       145       146       147       148       149       150       151       152       153       154       155       156       157       158       159       160       161       162       163       164       165       166       167       168       169       170       171       172       173       174       175       176       177       178       179       180       181       182       183       184       185       186       187       188       189       190       191       192       193       194       195       196       197       198       199       200       201       202       203       204       205       206       207       208       209       210       211       212       213       214       215       216       217       218       219       220       221       222       223       224       225       226       227       228       229       230       231       232       233       234       235       236       237       238       239       240       241       242       243       244       245       246       247       248       249       250       251       252       253       254       255       256       257       258       259       260       261       262       263       264       265       266       267       268       269       270       271       272       273       274       275       276       277       278       279       280       281       282       283       284       285       286       287       288       289       290       291       292       293       294       295       296       297       298       299       300       301       302       303       304       305       306       307       308       309       310       311       312       313       314       315       316       317       318       319       320       321       322       323       324       325       326       327       328       329       330       331       332       333       334       335       336       337       338       339       340       341       342       343       344       345       346       347       348       349       350       351       352       353       354       355       356       357       358       359       360       361       362       363       364       365       366       367       368       369       370       371       372       373       374       375       376       377       378       379       380       381       382       383       384       385       386       387       388       389       390       391       392       393       394       395       396       397       398       399       400       401       402       403       404       405       406       407       408       409       410       411       412       413       414       415       416       417       418       419       420       421       422       423       424       425       426       427       428       429       430       431       432       433       434       435       436       437       438       439       440       441       442       443       444       445       446       447       448       449       450       451       452       453       454       455       456       457       458       459       460       461       462       463       464       465       466       467       468       469       470       471       472       473       474       475       476       477       478       479       480       481       482       483       484       485       486       487       488       489       490       491       492       493       494       495       496       497       498       499       500       501       502       503       504       505       506       507       508       509       510       511       512       513       514       515       516       517       518       519       520       521       522       523       524       525       526       527       528       529       530       531       532       533       534       535       536       537       538       539       540       541       542       543       544       545       546       547       548       549       550       551       552       553       554       555       556       557       558       559       560       561       562       563       564       565       566       567       568       569       570       571       572       573       574       575       576       577       578       579       580       581       582       583       584       585       586       587       588       589       590       591       592       593       594       595       596       597       598       599       600       601       602       603       604       605       606       607       608       609       610       611       612       613       614       615       616       617       618       619       620       621       622       623       624       625       626       627       628       629       630       631       632       633       634       635       636       637       638       639       640       641       642       643       644       645       646       647       648       649       650       651       652       653       654       655       656       657       658       659       660       661       662       663       664       665       666       667       668       669       670       671       672       673       674       675       676       677       678       679       680       681       682       683       684       685       686       687       688       689       690       691       692       693       694       695       696       697       698       699       700       701       702       703       704       705       706       707       708       709       710       711       712       713       714       715       716       717       718       719       720       721       722       723       724       725       726       727       728       729       730       731       732       733       734       735       736       737       738       739       740       741       742       743       744       745       746       747       748       749       750       751       752       753       754       755       756       757       758       759       760       761       762       763       764       765       766       767       768       769       770       771       772       773       774       775       776       777       778       779       780       781       782       783       784       785       786       787       788       789       790       791       792       793       794       795       796       797       798       799       800       801       802       803       804       805       806       807       808       809       810       811       812       813       814       815       816       817       818       819       820       821       822       823       824       825       826       827       828       829       830       831       832       833       834       835       836       837       838       839       840       841       842       843       844       845       846       847       848       849       850       851       852       853       854       855       856       857       858       859       860       861       862       863       864       865       866       867       868       869       870       871       872       873       874       875       876       877       878       879       880       881       882       883       884       885       886       887       888       889       890       891       892       893       894       895       896       897       898       899       900       901       902       903       904       905       906       907       908       909       910       911       912       913       914       915       916       917       918       919       920       921       922       923       924       925       926       927       928       929       930       931       932       933       934       935       936       937       938       939       940       941       942       943       944       945       946       947       948       949       950       951       952       953       954       955       956       957       958       959       960       961       962       963       964       965       966       967       968       969       970       971       972       973       974       975       976       977       978       979       980       981       982       983       984       985       986       987       988       989       990       991       992       993       994       995       996       997       998       999      \n",
            "         Values: 5000.0    5000.0    5000.0    5000.0    5000.0    5000.0    5000.0    5000.0    5000.0    5000.0    5000.0    5000.0    5000.0    5000.0    5000.0    5000.0    5000.0    5000.0    5000.0    5000.0    5000.0    5000.0    5000.0    5000.0    5000.0    5000.0    5000.0    5000.0    5000.0    5000.0    5000.0    5000.0    5000.0    5000.0    5000.0    5000.0    5000.0    5000.0    5000.0    5000.0    5000.0    5000.0    5000.0    5000.0    5000.0    5000.0    5000.0    5000.0    5000.0    5000.0    5000.0    5000.0    5000.0    5000.0    5000.0    5000.0    5000.0    5000.0    5000.0    5000.0    5000.0    5000.0    5000.0    5000.0    5000.0    5000.0    5000.0    5000.0    5000.0    5000.0    5000.0    5000.0    5000.0    5000.0    5000.0    5000.0    5000.0    5000.0    5000.0    5000.0    5000.0    5000.0    5000.0    5000.0    5000.0    5000.0    5000.0    5000.0    5000.0    5000.0    5000.0    5000.0    5000.0    5000.0    5000.0    5000.0    5000.0    5000.0    5000.0    5000.0    5000.0    5000.0    5000.0    5000.0    5000.0    5000.0    5000.0    5000.0    5000.0    5000.0    5000.0    5000.0    5000.0    5000.0    5000.0    5000.0    5000.0    5000.0    5000.0    5000.0    5000.0    5000.0    5000.0    5000.0    5000.0    5000.0    5000.0    5000.0    5000.0    5000.0    5000.0    5000.0    5000.0    5000.0    5000.0    5000.0    5000.0    5000.0    5000.0    5000.0    5000.0    5000.0    5000.0    5000.0    5000.0    5000.0    5000.0    5000.0    5000.0    5000.0    5000.0    5000.0    5000.0    5000.0    5000.0    5000.0    5000.0    5000.0    5000.0    5000.0    5000.0    5000.0    5000.0    5000.0    5000.0    5000.0    5000.0    5000.0    5000.0    5000.0    5000.0    5000.0    5000.0    5000.0    5000.0    5000.0    5000.0    5000.0    5000.0    5000.0    5000.0    5000.0    5000.0    5000.0    5000.0    5000.0    5000.0    5000.0    5000.0    5000.0    5000.0    5000.0    5000.0    5000.0    5000.0    5000.0    5000.0    5000.0    5000.0    5000.0    5000.0    5000.0    5000.0    5000.0    5000.0    5000.0    5000.0    5000.0    5000.0    5000.0    5000.0    5000.0    5000.0    5000.0    5000.0    5000.0    5000.0    5000.0    5000.0    5000.0    5000.0    5000.0    5000.0    5000.0    5000.0    5000.0    5000.0    5000.0    5000.0    5000.0    5000.0    5000.0    5000.0    5000.0    5000.0    5000.0    5000.0    5000.0    5000.0    5000.0    5000.0    5000.0    5000.0    5000.0    5000.0    5000.0    5000.0    5000.0    5000.0    5000.0    5000.0    5000.0    5000.0    5000.0    5000.0    5000.0    5000.0    5000.0    5000.0    5000.0    5000.0    5000.0    5000.0    5000.0    5000.0    5000.0    5000.0    5000.0    5000.0    5000.0    5000.0    5000.0    5000.0    5000.0    5000.0    5000.0    5000.0    5000.0    5000.0    5000.0    5000.0    5000.0    5000.0    5000.0    5000.0    5000.0    5000.0    5000.0    5000.0    5000.0    5000.0    5000.0    5000.0    5000.0    5000.0    5000.0    5000.0    5000.0    5000.0    5000.0    5000.0    5000.0    5000.0    5000.0    5000.0    5000.0    5000.0    5000.0    5000.0    5000.0    5000.0    5000.0    5000.0    5000.0    5000.0    5000.0    5000.0    5000.0    5000.0    5000.0    5000.0    5000.0    5000.0    5000.0    5000.0    5000.0    5000.0    5000.0    5000.0    5000.0    5000.0    5000.0    5000.0    5000.0    5000.0    5000.0    5000.0    5000.0    5000.0    5000.0    5000.0    5000.0    5000.0    5000.0    5000.0    5000.0    5000.0    5000.0    5000.0    5000.0    5000.0    5000.0    5000.0    5000.0    5000.0    5000.0    5000.0    5000.0    5000.0    5000.0    5000.0    5000.0    5000.0    5000.0    5000.0    5000.0    5000.0    5000.0    5000.0    5000.0    5000.0    5000.0    5000.0    5000.0    5000.0    5000.0    5000.0    5000.0    5000.0    5000.0    5000.0    5000.0    5000.0    5000.0    5000.0    5000.0    5000.0    5000.0    5000.0    5000.0    5000.0    5000.0    5000.0    5000.0    5000.0    5000.0    5000.0    5000.0    5000.0    5000.0    5000.0    5000.0    5000.0    5000.0    5000.0    5000.0    5000.0    5000.0    5000.0    5000.0    5000.0    5000.0    5000.0    5000.0    5000.0    5000.0    5000.0    5000.0    5000.0    5000.0    5000.0    5000.0    5000.0    5000.0    5000.0    5000.0    5000.0    5000.0    5000.0    5000.0    5000.0    5000.0    5000.0    5000.0    5000.0    5000.0    5000.0    5000.0    5000.0    5000.0    5000.0    5000.0    5000.0    5000.0    5000.0    5000.0    5000.0    5000.0    5000.0    5000.0    5000.0    5000.0    5000.0    5000.0    5000.0    5000.0    5000.0    5000.0    5000.0    5000.0    5000.0    5000.0    5000.0    5000.0    5000.0    5000.0    5000.0    5000.0    5000.0    5000.0    5000.0    5000.0    5000.0    5000.0    5000.0    5000.0    5000.0    5000.0    5000.0    5000.0    5000.0    5000.0    5000.0    5000.0    5000.0    5000.0    5000.0    5000.0    5000.0    5000.0    5000.0    5000.0    5000.0    5000.0    5000.0    5000.0    5000.0    5000.0    5000.0    5000.0    5000.0    5000.0    5000.0    5000.0    5000.0    5000.0    5000.0    5000.0    5000.0    5000.0    5000.0    5000.0    5000.0    5000.0    5000.0    5000.0    5000.0    5000.0    5000.0    5000.0    5000.0    5000.0    5000.0    5000.0    5000.0    5000.0    5000.0    5000.0    5000.0    5000.0    5000.0    5000.0    5000.0    5000.0    5000.0    5000.0    5000.0    5000.0    5000.0    5000.0    5000.0    5000.0    5000.0    5000.0    5000.0    5000.0    5000.0    5000.0    5000.0    5000.0    5000.0    5000.0    5000.0    5000.0    5000.0    5000.0    5000.0    5000.0    5000.0    5000.0    5000.0    5000.0    5000.0    5000.0    5000.0    5000.0    5000.0    5000.0    5000.0    5000.0    5000.0    5000.0    5000.0    5000.0    5000.0    5000.0    5000.0    5000.0    5000.0    5000.0    5000.0    5000.0    5000.0    5000.0    5000.0    5000.0    5000.0    5000.0    5000.0    5000.0    5000.0    5000.0    5000.0    5000.0    5000.0    5000.0    5000.0    5000.0    5000.0    5000.0    5000.0    5000.0    5000.0    5000.0    5000.0    5000.0    5000.0    5000.0    5000.0    5000.0    5000.0    5000.0    5000.0    5000.0    5000.0    5000.0    5000.0    5000.0    5000.0    5000.0    5000.0    5000.0    5000.0    5000.0    5000.0    5000.0    5000.0    5000.0    5000.0    5000.0    5000.0    5000.0    5000.0    5000.0    5000.0    5000.0    5000.0    5000.0    5000.0    5000.0    5000.0    5000.0    5000.0    5000.0    5000.0    5000.0    5000.0    5000.0    5000.0    5000.0    5000.0    5000.0    5000.0    5000.0    5000.0    5000.0    5000.0    5000.0    5000.0    5000.0    5000.0    5000.0    5000.0    5000.0    5000.0    5000.0    5000.0    5000.0    5000.0    5000.0    5000.0    5000.0    5000.0    5000.0    5000.0    5000.0    5000.0    5000.0    5000.0    5000.0    5000.0    5000.0    5000.0    5000.0    5000.0    5000.0    5000.0    5000.0    5000.0    5000.0    5000.0    5000.0    5000.0    5000.0    5000.0    5000.0    5000.0    5000.0    5000.0    5000.0    5000.0    5000.0    5000.0    5000.0    5000.0    5000.0    5000.0    5000.0    5000.0    5000.0    5000.0    5000.0    5000.0    5000.0    5000.0    5000.0    5000.0    5000.0    5000.0    5000.0    5000.0    5000.0    5000.0    5000.0    5000.0    5000.0    5000.0    5000.0    5000.0    5000.0    5000.0    5000.0    5000.0    5000.0    5000.0    5000.0    5000.0    5000.0    5000.0    5000.0    5000.0    5000.0    5000.0    5000.0    5000.0    5000.0    5000.0    5000.0    5000.0    5000.0    5000.0    5000.0    5000.0    5000.0    5000.0    5000.0    5000.0    5000.0    5000.0    5000.0    5000.0    5000.0    5000.0    5000.0    5000.0    5000.0    5000.0    5000.0    5000.0    5000.0    5000.0    5000.0    5000.0    5000.0    5000.0    5000.0    5000.0    5000.0    5000.0    5000.0    5000.0    5000.0    5000.0    5000.0    5000.0    5000.0    5000.0    5000.0    5000.0    5000.0    5000.0    5000.0    5000.0    5000.0    5000.0    5000.0    5000.0    5000.0    5000.0    5000.0    5000.0    5000.0    5000.0    5000.0    5000.0    5000.0    5000.0    5000.0    5000.0    5000.0    5000.0    5000.0    5000.0    5000.0    5000.0    5000.0    5000.0    5000.0    5000.0    5000.0    5000.0    5000.0    5000.0    5000.0    5000.0    5000.0    5000.0    5000.0    5000.0    5000.0    5000.0    5000.0    5000.0    5000.0    5000.0    5000.0    5000.0    5000.0    5000.0    5000.0    5000.0    5000.0    5000.0    5000.0    5000.0    5000.0    5000.0    5000.0    5000.0    5000.0    5000.0    5000.0    5000.0    5000.0    5000.0    5000.0    5000.0    5000.0    5000.0    5000.0    5000.0    5000.0    5000.0    5000.0    5000.0    5000.0    5000.0    5000.0    5000.0    5000.0    5000.0    5000.0    5000.0    5000.0    5000.0    5000.0    5000.0    5000.0    5000.0    5000.0    5000.0    5000.0    5000.0    5000.0    5000.0    5000.0    5000.0    5000.0    5000.0    5000.0    5000.0    5000.0    5000.0    5000.0    5000.0    5000.0    5000.0    5000.0    5000.0    5000.0    5000.0    5000.0    5000.0    5000.0    5000.0    5000.0    5000.0    5000.0    5000.0    5000.0    5000.0    5000.0    5000.0    5000.0    5000.0    5000.0    5000.0    5000.0    5000.0    5000.0    5000.0    5000.0    5000.0    5000.0    5000.0    5000.0    5000.0    5000.0    5000.0    5000.0    5000.0    5000.0    5000.0    5000.0    5000.0    5000.0    5000.0    5000.0    5000.0    5000.0    5000.0    5000.0    5000.0    5000.0    5000.0    5000.0    5000.0    5000.0    5000.0    5000.0    5000.0    5000.0    5000.0    5000.0    5000.0    5000.0    5000.0    5000.0    5000.0    5000.0    5000.0    5000.0    5000.0    5000.0    5000.0    5000.0    5000.0    5000.0    5000.0    5000.0    5000.0    5000.0    5000.0    5000.0    5000.0    5000.0    5000.0    5000.0    5000.0    5000.0    5000.0    5000.0    5000.0    5000.0    5000.0    5000.0    5000.0    5000.0    5000.0    5000.0    5000.0    5000.0    5000.0    5000.0    5000.0    5000.0    5000.0    5000.0    5000.0    5000.0   \n",
            "MGESSsoc (SoC of MGESS at each MG):\n",
            "     MG2:\n",
            "         Times : 0         1         2         3         4         5         6         7         8         9         10        11        12        13        14        15        16        17        18        19        20        21        22        23        24        25        26        27        28        29        30        31        32        33        34        35        36        37        38        39        40        41        42        43        44        45        46        47        48        49        50        51        52        53        54        55        56        57        58        59        60        61        62        63        64        65        66        67        68        69        70        71        72        73        74        75        76        77        78        79        80        81        82        83        84        85        86        87        88        89        90        91        92        93        94        95        96        97        98        99        100       101       102       103       104       105       106       107       108       109       110       111       112       113       114       115       116       117       118       119       120       121       122       123       124       125       126       127       128       129       130       131       132       133       134       135       136       137       138       139       140       141       142       143       144       145       146       147       148       149       150       151       152       153       154       155       156       157       158       159       160       161       162       163       164       165       166       167       168       169       170       171       172       173       174       175       176       177       178       179       180       181       182       183       184       185       186       187       188       189       190       191       192       193       194       195       196       197       198       199       200       201       202       203       204       205       206       207       208       209       210       211       212       213       214       215       216       217       218       219       220       221       222       223       224       225       226       227       228       229       230       231       232       233       234       235       236       237       238       239       240       241       242       243       244       245       246       247       248       249       250       251       252       253       254       255       256       257       258       259       260       261       262       263       264       265       266       267       268       269       270       271       272       273       274       275       276       277       278       279       280       281       282       283       284       285       286       287       288       289       290       291       292       293       294       295       296       297       298       299       300       301       302       303       304       305       306       307       308       309       310       311       312       313       314       315       316       317       318       319       320       321       322       323       324       325       326       327       328       329       330       331       332       333       334       335       336       337       338       339       340       341       342       343       344       345       346       347       348       349       350       351       352       353       354       355       356       357       358       359       360       361       362       363       364       365       366       367       368       369       370       371       372       373       374       375       376       377       378       379       380       381       382       383       384       385       386       387       388       389       390       391       392       393       394       395       396       397       398       399       400       401       402       403       404       405       406       407       408       409       410       411       412       413       414       415       416       417       418       419       420       421       422       423       424       425       426       427       428       429       430       431       432       433       434       435       436       437       438       439       440       441       442       443       444       445       446       447       448       449       450       451       452       453       454       455       456       457       458       459       460       461       462       463       464       465       466       467       468       469       470       471       472       473       474       475       476       477       478       479       480       481       482       483       484       485       486       487       488       489       490       491       492       493       494       495       496       497       498       499       500       501       502       503       504       505       506       507       508       509       510       511       512       513       514       515       516       517       518       519       520       521       522       523       524       525       526       527       528       529       530       531       532       533       534       535       536       537       538       539       540       541       542       543       544       545       546       547       548       549       550       551       552       553       554       555       556       557       558       559       560       561       562       563       564       565       566       567       568       569       570       571       572       573       574       575       576       577       578       579       580       581       582       583       584       585       586       587       588       589       590       591       592       593       594       595       596       597       598       599       600       601       602       603       604       605       606       607       608       609       610       611       612       613       614       615       616       617       618       619       620       621       622       623       624       625       626       627       628       629       630       631       632       633       634       635       636       637       638       639       640       641       642       643       644       645       646       647       648       649       650       651       652       653       654       655       656       657       658       659       660       661       662       663       664       665       666       667       668       669       670       671       672       673       674       675       676       677       678       679       680       681       682       683       684       685       686       687       688       689       690       691       692       693       694       695       696       697       698       699       700       701       702       703       704       705       706       707       708       709       710       711       712       713       714       715       716       717       718       719       720       721       722       723       724       725       726       727       728       729       730       731       732       733       734       735       736       737       738       739       740       741       742       743       744       745       746       747       748       749       750       751       752       753       754       755       756       757       758       759       760       761       762       763       764       765       766       767       768       769       770       771       772       773       774       775       776       777       778       779       780       781       782       783       784       785       786       787       788       789       790       791       792       793       794       795       796       797       798       799       800       801       802       803       804       805       806       807       808       809       810       811       812       813       814       815       816       817       818       819       820       821       822       823       824       825       826       827       828       829       830       831       832       833       834       835       836       837       838       839       840       841       842       843       844       845       846       847       848       849       850       851       852       853       854       855       856       857       858       859       860       861       862       863       864       865       866       867       868       869       870       871       872       873       874       875       876       877       878       879       880       881       882       883       884       885       886       887       888       889       890       891       892       893       894       895       896       897       898       899       900       901       902       903       904       905       906       907       908       909       910       911       912       913       914       915       916       917       918       919       920       921       922       923       924       925       926       927       928       929       930       931       932       933       934       935       936       937       938       939       940       941       942       943       944       945       946       947       948       949       950       951       952       953       954       955       956       957       958       959       960       961       962       963       964       965       966       967       968       969       970       971       972       973       974       975       976       977       978       979       980       981       982       983       984       985       986       987       988       989       990       991       992       993       994       995       996       997       998       999       1000     \n",
            "         Values: 1969.75   1969.75   1969.75   1969.75   1969.75   1969.75   1969.75   1969.75   1969.75   1969.75   1969.75   1969.75   1969.75   1969.75   1969.75   1969.75   1969.75   1969.75   1969.75   1969.75   1969.75   1969.75   1969.75   1969.75   1969.75   1969.75   1969.75   1969.75   1969.75   1969.75   1969.75   1969.75   1969.75   1969.75   1969.75   1969.75   1969.75   1969.75   1969.75   1969.75   1969.75   1969.75   1969.75   1969.75   1969.75   1969.75   1969.75   1969.75   1969.75   1969.75   1969.75   1969.75   1969.75   1969.75   1969.75   1969.75   1969.75   1969.75   1969.75   1969.75   1969.75   1969.75   1969.75   1969.75   1969.75   1969.75   1969.75   1969.75   1969.75   1969.75   1969.75   1969.75   1969.75   1969.75   1969.75   1969.75   1969.75   1969.75   1969.75   1969.75   1969.75   1969.75   1969.75   1969.75   1969.75   1969.75   1969.75   1969.75   1969.75   1969.75   1969.75   1969.75   1969.75   1969.75   1969.75   1969.75   1969.75   1969.75   1969.75   1969.75   1969.75   1969.75   1969.75   1969.75   1969.75   1969.75   1969.75   1969.75   1969.75   1969.75   1969.75   1969.75   1969.75   1969.75   1969.75   1969.75   1969.75   1969.75   1969.75   1969.75   1969.75   1969.75   1969.75   1969.75   1969.75   1969.75   1969.75   1969.75   1969.75   1969.75   1969.75   1969.75   1969.75   1969.75   1969.75   1969.75   1969.75   1969.75   1969.75   1969.75   1969.75   1969.75   1969.75   1969.75   1969.75   1969.75   1969.75   1969.75   1969.75   1969.75   1969.75   1969.75   1969.75   1969.75   1969.75   1969.75   1969.75   1969.75   1969.75   1969.75   1969.75   1969.75   1969.75   1969.75   1969.75   1969.75   1969.75   1969.75   1969.75   1969.75   1969.75   1969.75   1969.75   1969.75   1969.75   1969.75   1969.75   1969.75   1969.75   1969.75   1969.75   1969.75   1969.75   1969.75   1969.75   1969.75   1969.75   1969.75   1969.75   1969.75   1969.75   1969.75   1969.75   1969.75   1969.75   1969.75   1969.75   1969.75   1969.75   1969.75   1969.75   1969.75   1969.75   1969.75   1969.75   1969.75   1969.75   1969.75   1969.75   1969.75   1969.75   1969.75   1969.75   1969.75   1969.75   1969.75   1969.75   1969.75   1969.75   1969.75   1969.75   1969.75   1969.75   1969.75   1969.75   1969.75   1969.75   1969.75   1969.75   1969.75   1969.75   1969.75   1969.75   1969.75   1969.75   1969.75   1969.75   1969.75   1969.75   1969.75   1969.75   1969.75   1969.75   1969.75   1969.75   1969.75   1969.75   1969.75   1969.75   1969.75   1969.75   1969.75   1969.75   1969.75   1969.75   1969.75   1969.75   1969.75   1969.75   1969.75   1969.75   1969.75   1969.75   1969.75   1969.75   1969.75   1969.75   1969.75   1969.75   1969.75   1969.75   1969.75   1969.75   1969.75   1969.75   1969.75   1969.75   1969.75   1969.75   1969.75   1969.75   1969.75   1969.75   1969.75   1969.75   1969.75   1969.75   1969.75   1969.75   1969.75   1969.75   1969.75   1969.75   1969.75   1969.75   1969.75   1969.75   1969.75   1969.75   1969.75   1969.75   1969.75   1969.75   1969.75   1969.75   1969.75   1969.75   1969.75   1969.75   1969.75   1969.75   1969.75   1969.75   1969.75   1969.75   1969.75   1969.75   1969.75   1969.75   1969.75   1969.75   1969.75   1969.75   1969.75   1969.75   1969.75   1969.75   1969.75   1969.75   1969.75   1969.75   1969.75   1969.75   1969.75   1969.75   1969.75   1969.75   1969.75   1969.75   1969.75   1969.75   1969.75   1969.75   1969.75   1969.75   1969.75   1969.75   1969.75   1969.75   1969.75   1969.75   1969.75   1969.75   1969.75   1969.75   1969.75   1969.75   1969.75   1969.75   1969.75   1969.75   1969.75   1969.75   1969.75   1969.75   1969.75   1969.75   1969.75   1969.75   1969.75   1969.75   1969.75   1969.75   1969.75   1969.75   1969.75   1969.75   1969.75   1969.75   1969.75   1969.75   1969.75   1969.75   1969.75   1969.75   1969.75   1969.75   1969.75   1969.75   1969.75   1969.75   1969.75   1969.75   1969.75   1969.75   1969.75   1969.75   1969.75   1969.75   1969.75   1969.75   1969.75   1969.75   1969.75   1969.75   1969.75   1969.75   1969.75   1969.75   1969.75   1969.75   1969.75   1969.75   1969.75   1969.75   1969.75   1969.75   1969.75   1969.75   1969.75   1969.75   1969.75   1969.75   1969.75   1969.75   1969.75   1969.75   1969.75   1969.75   1969.75   1969.75   1969.75   1969.75   1969.75   1969.75   1969.75   1969.75   1969.75   1969.75   1969.75   1969.75   1969.75   1969.75   1969.75   1969.75   1969.75   1969.75   1969.75   1969.75   1969.75   1969.75   1969.75   1969.75   1969.75   1969.75   1969.75   1969.75   1969.75   1969.75   1969.75   1969.75   1969.75   1969.75   1969.75   1969.75   1969.75   1969.75   1969.75   1969.75   1969.75   1969.75   1969.75   1969.75   1969.75   1969.75   1969.75   1969.75   1969.75   1969.75   1969.75   1969.75   1969.75   1969.75   1969.75   1969.75   1969.75   1969.75   1969.75   1969.75   1969.75   1969.75   1969.75   1969.75   1969.75   1969.75   1969.75   1969.75   1969.75   1969.75   1969.75   1969.75   1969.75   1969.75   1969.75   1969.75   1969.75   1969.75   1969.75   1969.75   1969.75   1969.75   1969.75   1969.75   1969.75   1969.75   1969.75   1969.75   1969.75   1969.75   1969.75   1969.75   1969.75   1969.75   1969.75   1969.75   1969.75   1969.75   1969.75   1969.75   1969.75   1969.75   1969.75   1969.75   1969.75   1969.75   1969.75   1969.75   1969.75   1969.75   1969.75   1969.75   1969.75   1969.75   1969.75   1969.75   1969.75   1969.75   1969.75   1969.75   1969.75   1969.75   1969.75   1969.75   1969.75   1969.75   1969.75   1969.75   1969.75   1969.75   1969.75   1969.75   1969.75   1969.75   1969.75   1969.75   1969.75   1969.75   1969.75   1969.75   1969.75   1969.75   1969.75   1969.75   1969.75   1969.75   1969.75   1969.75   1969.75   1969.75   1969.75   1969.75   1969.75   1969.75   1969.75   1969.75   1969.75   1969.75   1969.75   1969.75   1969.75   1969.75   1969.75   1969.75   1969.75   1969.75   1969.75   1969.75   1969.75   1969.75   1969.75   1969.75   1969.75   1969.75   1969.75   1969.75   1969.75   1969.75   1969.75   1969.75   1969.75   1969.75   1969.75   1969.75   1969.75   1969.75   1969.75   1969.75   1969.75   1969.75   1969.75   1969.75   1969.75   1969.75   1969.75   1969.75   1969.75   1969.75   1969.75   1969.75   1969.75   1969.75   1969.75   1969.75   1969.75   1969.75   1969.75   1969.75   1969.75   1969.75   1969.75   1969.75   1969.75   1969.75   1969.75   1969.75   1969.75   1969.75   1969.75   1969.75   1969.75   1969.75   1969.75   1969.75   1969.75   1969.75   1969.75   1969.75   1969.75   1969.75   1969.75   1969.75   1969.75   1969.75   1969.75   1969.75   1969.75   1969.75   1969.75   1969.75   1969.75   1969.75   1969.75   1969.75   1969.75   1969.75   1969.75   1969.75   1969.75   1969.75   1969.75   1969.75   1969.75   1969.75   1969.75   1969.75   1969.75   1969.75   1969.75   1969.75   1969.75   1969.75   1969.75   1969.75   1969.75   1969.75   1969.75   1969.75   1969.75   1969.75   1969.75   1969.75   1969.75   1969.75   1969.75   1969.75   1969.75   1969.75   1969.75   1969.75   1969.75   1969.75   1969.75   1969.75   1969.75   1969.75   1969.75   1969.75   1969.75   1969.75   1969.75   1969.75   1969.75   1969.75   1969.75   1969.75   1954.96   1954.96   1954.96   1954.96   1954.96   1954.96   1954.96   1954.96   1954.96   1954.96   1954.96   1954.96   1954.96   1954.96   1954.96   1954.96   1954.96   1954.96   1954.96   1954.96   1954.96   1954.96   1954.96   1954.96   1954.96   1954.96   1954.96   1954.96   1954.96   1954.96   1954.96   1940.17   1925.37   1910.58   1895.79   1881.0    1866.21   1866.21   1866.21   1866.21   1866.21   1866.21   1866.21   1866.21   1866.21   1866.21   1866.21   1866.21   1866.21   1866.21   1866.21   1866.21   1866.21   1866.21   1866.21   1866.21   1866.21   1866.21   1866.21   1866.21   1866.21   1866.21   1866.21   1866.21   1866.21   1866.21   1866.21   1866.21   1866.21   1866.21   1866.21   1866.21   1866.21   1866.21   1866.21   1866.21   1866.21   1866.21   1866.21   1866.21   1866.21   1866.21   1866.21   1866.21   1866.21   1866.21   1866.21   1866.21   1866.21   1866.21   1866.21   1866.21   1866.21   1866.21   1866.21   1866.21   1866.21   1866.21   1866.21   1866.21   1866.21   1866.21   1866.21   1866.21   1866.21   1866.21   1866.21   1866.21   1866.21   1866.21   1866.21   1866.21   1866.21   1866.21   1866.21   1866.21   1866.21   1866.21   1866.21   1866.21   1866.21   1866.21   1866.21   1866.21   1849.79   1833.38   1816.96   1800.55   1784.13   1767.72   1751.3    1734.89   1718.48   1702.06   1685.65   1669.23   1652.82   1636.4    1619.99   1603.57   1587.16   1570.74   1554.33   1537.92   1521.5    1505.09   1488.67   1472.26   1455.84   1439.43   1423.01   1423.01   1423.01   1423.01   1423.01   1423.01   1423.01   1423.01   1423.01   1423.01   1423.01   1423.01   1423.01   1423.01   1423.01   1423.01   1406.6    1390.18   1373.77   1357.36   1340.94   1324.53   1324.53   1324.53   1324.53   1324.53   1308.11   1291.7    1291.7    1291.7    1291.7    1291.7    1275.28   1275.28   1275.28   1275.28   1275.28   1258.87   1242.45   1226.04   1209.62   1193.21   1176.79   1160.38   1143.97   1127.55   1111.14   1094.72   1078.31   1061.89   1045.48   1029.06   1012.65   996.23    979.82    963.41    946.99    943.19    926.78    910.36    893.95    877.54    861.12    844.71    828.29    811.88    795.46    779.05    762.63    746.22    729.8     713.39    696.97    680.56    664.15    647.73    631.32    614.9     598.49    582.07    565.66    549.24    532.83    516.41    516.41    500.0     500.0     500.0     500.0     500.0     500.0     500.0     500.0     500.0     500.0     500.0     500.0     500.0     500.0     500.0     500.0     500.0     500.0     500.0     500.0     500.0     500.0     500.0     500.0     500.0     500.0     500.0     500.0     500.0     500.0     500.0     500.0     500.0     500.0     500.0     500.0     500.0     500.0     500.0     500.0     500.0    \n",
            "     MG3:\n",
            "         Times : 0         1         2         3         4         5         6         7         8         9         10        11        12        13        14        15        16        17        18        19        20        21        22        23        24        25        26        27        28        29        30        31        32        33        34        35        36        37        38        39        40        41        42        43        44        45        46        47        48        49        50        51        52        53        54        55        56        57        58        59        60        61        62        63        64        65        66        67        68        69        70        71        72        73        74        75        76        77        78        79        80        81        82        83        84        85        86        87        88        89        90        91        92        93        94        95        96        97        98        99        100       101       102       103       104       105       106       107       108       109       110       111       112       113       114       115       116       117       118       119       120       121       122       123       124       125       126       127       128       129       130       131       132       133       134       135       136       137       138       139       140       141       142       143       144       145       146       147       148       149       150       151       152       153       154       155       156       157       158       159       160       161       162       163       164       165       166       167       168       169       170       171       172       173       174       175       176       177       178       179       180       181       182       183       184       185       186       187       188       189       190       191       192       193       194       195       196       197       198       199       200       201       202       203       204       205       206       207       208       209       210       211       212       213       214       215       216       217       218       219       220       221       222       223       224       225       226       227       228       229       230       231       232       233       234       235       236       237       238       239       240       241       242       243       244       245       246       247       248       249       250       251       252       253       254       255       256       257       258       259       260       261       262       263       264       265       266       267       268       269       270       271       272       273       274       275       276       277       278       279       280       281       282       283       284       285       286       287       288       289       290       291       292       293       294       295       296       297       298       299       300       301       302       303       304       305       306       307       308       309       310       311       312       313       314       315       316       317       318       319       320       321       322       323       324       325       326       327       328       329       330       331       332       333       334       335       336       337       338       339       340       341       342       343       344       345       346       347       348       349       350       351       352       353       354       355       356       357       358       359       360       361       362       363       364       365       366       367       368       369       370       371       372       373       374       375       376       377       378       379       380       381       382       383       384       385       386       387       388       389       390       391       392       393       394       395       396       397       398       399       400       401       402       403       404       405       406       407       408       409       410       411       412       413       414       415       416       417       418       419       420       421       422       423       424       425       426       427       428       429       430       431       432       433       434       435       436       437       438       439       440       441       442       443       444       445       446       447       448       449       450       451       452       453       454       455       456       457       458       459       460       461       462       463       464       465       466       467       468       469       470       471       472       473       474       475       476       477       478       479       480       481       482       483       484       485       486       487       488       489       490       491       492       493       494       495       496       497       498       499       500       501       502       503       504       505       506       507       508       509       510       511       512       513       514       515       516       517       518       519       520       521       522       523       524       525       526       527       528       529       530       531       532       533       534       535       536       537       538       539       540       541       542       543       544       545       546       547       548       549       550       551       552       553       554       555       556       557       558       559       560       561       562       563       564       565       566       567       568       569       570       571       572       573       574       575       576       577       578       579       580       581       582       583       584       585       586       587       588       589       590       591       592       593       594       595       596       597       598       599       600       601       602       603       604       605       606       607       608       609       610       611       612       613       614       615       616       617       618       619       620       621       622       623       624       625       626       627       628       629       630       631       632       633       634       635       636       637       638       639       640       641       642       643       644       645       646       647       648       649       650       651       652       653       654       655       656       657       658       659       660       661       662       663       664       665       666       667       668       669       670       671       672       673       674       675       676       677       678       679       680       681       682       683       684       685       686       687       688       689       690       691       692       693       694       695       696       697       698       699       700       701       702       703       704       705       706       707       708       709       710       711       712       713       714       715       716       717       718       719       720       721       722       723       724       725       726       727       728       729       730       731       732       733       734       735       736       737       738       739       740       741       742       743       744       745       746       747       748       749       750       751       752       753       754       755       756       757       758       759       760       761       762       763       764       765       766       767       768       769       770       771       772       773       774       775       776       777       778       779       780       781       782       783       784       785       786       787       788       789       790       791       792       793       794       795       796       797       798       799       800       801       802       803       804       805       806       807       808       809       810       811       812       813       814       815       816       817       818       819       820       821       822       823       824       825       826       827       828       829       830       831       832       833       834       835       836       837       838       839       840       841       842       843       844       845       846       847       848       849       850       851       852       853       854       855       856       857       858       859       860       861       862       863       864       865       866       867       868       869       870       871       872       873       874       875       876       877       878       879       880       881       882       883       884       885       886       887       888       889       890       891       892       893       894       895       896       897       898       899       900       901       902       903       904       905       906       907       908       909       910       911       912       913       914       915       916       917       918       919       920       921       922       923       924       925       926       927       928       929       930       931       932       933       934       935       936       937       938       939       940       941       942       943       944       945       946       947       948       949       950       951       952       953       954       955       956       957       958       959       960       961       962       963       964       965       966       967       968       969       970       971       972       973       974       975       976       977       978       979       980       981       982       983       984       985       986       987       988       989       990       991       992       993       994       995       996       997       998       999       1000     \n",
            "         Values: 7600.31   7600.31   7600.31   7600.31   7600.31   7600.31   7600.31   7600.31   7600.31   7600.31   7600.31   7600.31   7600.31   7600.31   7600.31   7600.31   7600.31   7600.31   7600.31   7600.31   7600.31   7600.31   7600.31   7600.31   7600.31   7600.31   7600.31   7600.31   7600.31   7600.31   7600.31   7600.31   7600.31   7600.31   7600.31   7600.31   7600.31   7600.31   7600.31   7600.31   7600.31   7600.31   7600.31   7600.31   7600.31   7600.31   7600.31   7600.31   7600.31   7600.31   7600.31   7600.31   7600.31   7600.31   7600.31   7600.31   7600.31   7600.31   7600.31   7600.31   7600.31   7600.31   7600.31   7600.31   7600.04   7599.76   7599.49   7599.22   7598.95   7597.74   7596.53   7596.53   7595.32   7594.11   7592.9    7591.69   7591.41   7591.14   7590.87   7589.66   7588.45   7587.24   7586.03   7584.82   7577.46   7562.81   7561.6    7561.6    7561.6    7560.39   7560.39   7559.18   7557.97   7557.97   7557.97   7557.97   7556.76   7555.55   7554.34   7553.13   7551.92   7550.71   7543.36   7536.0    7534.79   7533.58   7532.37   7531.16   7529.95   7528.74   7527.53   7526.32   7525.11   7517.75   7516.54   7515.33   7515.33   7500.69   7486.04   7486.04   7471.39   7471.39   7470.18   7462.83   7455.47   7448.11   7446.9    7445.69   7438.34   7430.98   7429.77   7428.56   7427.35   7426.14   7424.93   7423.72   7422.51   7421.3    7420.09   7418.88   7411.53   7410.32   7409.11   7407.9    7406.69   7405.48   7404.27   7403.06   7401.85   7400.64   7399.43   7398.21   7397.0    7395.79   7394.58   7393.37   7392.16   7390.95   7389.74   7388.53   7387.32   7386.11   7384.9    7383.69   7382.48   7381.27   7380.06   7378.85   7377.64   7376.43   7375.22   7374.01   7372.8    7371.59   7370.38   7369.17   7367.96   7366.75   7365.54   7364.33   7363.12   7361.91   7360.7    7359.49   7359.49   7358.28   7357.07   7355.86   7354.65   7353.44   7352.23   7351.02   7349.81   7348.6    7347.39   7346.18   7344.97   7343.76   7342.55   7341.34   7340.13   7338.92   7338.92   7337.71   7336.5    7335.29   7334.08   7332.87   7331.66   7310.24   7269.45   7228.66   7187.86   7147.07   7106.28   7065.48   7024.69   6983.9    6943.1    6902.31   6861.52   6820.72   6779.93   6739.14   6698.34   6657.55   6616.75   6575.96   6535.17   6494.37   6453.58   6412.79   6371.99   6331.2    6331.2    6290.41   6249.61   6208.82   6168.03   6127.23   6127.23   6086.44   6086.44   6045.65   6038.1    6038.1    5997.31   5997.31   5997.31   5997.31   5997.31   5997.31   5956.51   5956.51   5956.51   5956.51   5915.72   5915.72   5908.36   5908.36   5901.01   5901.01   5860.22   5860.22   5819.42   5819.42   5778.63   5778.63   5771.27   5771.27   5771.27   5771.27   5771.27   5771.27   5730.48   5730.48   5689.69   5689.69   5689.69   5689.69   5648.89   5648.89   5608.1    5608.1    5608.1    5608.1    5567.31   5567.31   5526.51   5526.51   5485.72   5485.72   5485.72   5485.72   5444.93   5444.93   5404.13   5404.13   5404.13   5404.13   5404.13   5404.13   5363.34   5363.34   5363.34   5363.34   5322.55   5322.55   5322.55   5322.55   5322.55   5322.55   5322.55   5322.55   5322.55   5322.55   5281.75   5281.75   5281.75   5281.75   5281.75   5281.75   5240.96   5240.96   5240.96   5240.96   5240.96   5240.96   5200.16   5200.16   5159.37   5159.37   5118.58   5118.58   5118.58   5118.58   5077.78   5077.78   5077.78   5077.78   5036.99   4996.2    4955.4    4914.61   4914.61   4914.61   4914.61   4914.61   4914.61   4873.82   4873.82   4873.82   4833.02   4833.02   4833.02   4833.02   4825.67   4824.46   4824.46   4824.46   4824.46   4824.46   4824.19   4823.91   4822.7    4821.49   4820.28   4819.07   4817.86   4810.51   4810.51   4803.15   4795.8    4795.8    4795.8    4795.8    4795.8    4795.8    4795.8    4795.8    4795.8    4794.58   4793.37   4786.02   4786.02   4786.02   4786.02   4786.02   4781.79   4780.58   4780.58   4780.58   4780.58   4780.58   4780.58   4780.58   4780.58   4780.58   4780.58   4739.78   4698.99   4658.2    4617.4    4617.4    4617.4    4576.61   4535.82   4495.02   4495.02   4454.23   4454.23   4454.23   4413.44   4372.64   4331.85   4331.85   4291.06   4250.26   4209.47   4168.68   4168.68   4127.88   4087.09   4046.3    4005.5    3964.71   3923.92   3923.92   3883.12   3842.33   3801.54   3760.74   3719.95   3679.16   3638.36   3638.36   3638.36   3597.57   3556.78   3556.78   3556.78   3556.78   3515.98   3515.98   3515.98   3475.19   3434.4    3393.6    3352.81   3352.81   3312.02   3271.22   3271.22   3230.43   3189.64   3148.84   3108.05   3067.26   3026.46   2985.67   2944.87   2904.08   2863.29   2822.49   2781.7    2740.91   2700.11   2659.32   2618.53   2577.73   2536.94   2496.15   2455.35   2414.56   2373.77   2332.97   2292.18   2251.39   2210.59   2169.8    2129.01   2088.21   2047.42   2006.63   1965.83   1925.04   1884.25   1843.45   1802.66   1761.87   1721.07   1680.28   1639.49   1598.69   1557.9    1517.11   1476.31   1435.52   1394.73   1353.93   1313.14   1272.35   1231.55   1190.76   1189.55   1188.34   1187.13   1157.17   1127.21   1126.0    1124.79   1123.58   1108.93   1107.72   1106.51   1105.3    1104.09   1102.88   1095.52   1065.56   1024.77   971.06    917.35    854.01    790.68    727.34    664.01    622.38    581.59    540.79    500.0     500.0     500.0     500.0     500.0     500.0     500.0     500.0     500.0     500.0     500.0     500.0     500.0     500.0     500.0     500.0     500.0     500.0     500.0     500.0     500.0     500.0     500.0     500.0     500.0     500.0     500.0     500.0     500.0     500.0     500.0     500.0     500.0     500.0     500.0     500.0     500.0     500.0     500.0     500.0     500.0     500.0     500.0     500.0     500.0     500.0     500.0     500.0     500.0     500.0     500.0     500.0     500.0     500.0     500.0     500.0     500.0     500.0     500.0     500.0     500.0     500.0     500.0     500.0     500.0     500.0     500.0     500.0     500.0     500.0     500.0     500.0     500.0     500.0     500.0     500.0     500.0     500.0     500.0     500.0     500.0     500.0     500.0     500.0     500.0     500.0     500.0     500.0     500.0     500.0     500.0     500.0     500.0     500.0     500.0     500.0     500.0     500.0     500.0     500.0     500.0     500.0     500.0     500.0     500.0     500.0     500.0     500.0     500.0     500.0     500.0     500.0     500.0     500.0     500.0     500.0     500.0     500.0     500.0     500.0     500.0     500.0     500.0     500.0     500.0     500.0     500.0     500.0     500.0     500.0     500.0     500.0     500.0     500.0     500.0     500.0     500.0     500.0     500.0     500.0     500.0     500.0     500.0     500.0     500.0     500.0     500.0     500.0     500.0     500.0     500.0     500.0     500.0     500.0     500.0     500.0     500.0     500.0     500.0     500.0     500.0     500.0     500.0     500.0     500.0     500.0     500.0     500.0     500.0     500.0     500.0     500.0     500.0     500.0     500.0     500.0     500.0     500.0     500.0     500.0     500.0     500.0     500.0     500.0     500.0     500.0     500.0     500.0     500.0     500.0     500.0     500.0     500.0     500.0     500.0     500.0     500.0     500.0     500.0     500.0     500.0     500.0     500.0     500.0     500.0     500.0     500.0     500.0     500.0     500.0     500.0     500.0     500.0     500.0     500.0     500.0     500.0     500.0     500.0     500.0     500.0     500.0     500.0     500.0     500.0     500.0     500.0     500.0     500.0     500.0     500.0     500.0     500.0     500.0     500.0     500.0     500.0     500.0     500.0     500.0     500.0     500.0     500.0     500.0     500.0     500.0     500.0     500.0     500.0     500.0     500.0     500.0     500.0     500.0     500.0     500.0     500.0     500.0     500.0     500.0     500.0     500.0     500.0     500.0     500.0     500.0     500.0     500.0     500.0     500.0     500.0     500.0     500.0     500.0     500.0     500.0     500.0     500.0     500.0     500.0     500.0     500.0     500.0     500.0     500.0     500.0     500.0     500.0     500.0     500.0     500.0     500.0     500.0     500.0     500.0     500.0     500.0     500.0     500.0     500.0     500.0     500.0     500.0     500.0     500.0     500.0     500.0     500.0     500.0     500.0     500.0     500.0     500.0     500.0     500.0     500.0     500.0     500.0     500.0     500.0     500.0     500.0     500.0     500.0     500.0     500.0     500.0     500.0     500.0     500.0     500.0     500.0     500.0     500.0     500.0     500.0     500.0     500.0     500.0     500.0     500.0     500.0     500.0     500.0     500.0     500.0     500.0     500.0     500.0     500.0     500.0     500.0     500.0     500.0     500.0     500.0     500.0     500.0     500.0     500.0     500.0     500.0     500.0     500.0     500.0     500.0     500.0     500.0     500.0     500.0     500.0     500.0     500.0     500.0     500.0     500.0     500.0     500.0     500.0     500.0     500.0     500.0     500.0     500.0     500.0     500.0     500.0     500.0     500.0     500.0     500.0     500.0     500.0     500.0     500.0     500.0     500.0     500.0     500.0     500.0     500.0     500.0     500.0     500.0     500.0     500.0     500.0     500.0     500.0     500.0     500.0     500.0     500.0     500.0     500.0     500.0     500.0     500.0     500.0     500.0     500.0     500.0     500.0     500.0     500.0     500.0     500.0     500.0     500.0     500.0     500.0     500.0     500.0     500.0     500.0     500.0     500.0     500.0     500.0     500.0     500.0     500.0     500.0     500.0     500.0     500.0     500.0     500.0     500.0     500.0     500.0     500.0     500.0     500.0     500.0     500.0     500.0     500.0     500.0     500.0     500.0     500.0     500.0     500.0     500.0     500.0     500.0     500.0     500.0     500.0     500.0    \n",
            "TrainESS2TrainLoad (Energy from Train ESS to Train Load):\n",
            "     Train1:\n",
            "         Times : 60        61        62        70        86        87        89        92        93        94        115       118       120       183       201       233       239       241       243       244       246       247       248       249       250       252       253       254       256       258       260       262       264       266       268       269       270       271       272       274       276       277       278       280       282       283       284       286       288       290       291       292       294       296       297       298       299       300       302       303       304       306       307       308       309       310       311       312       313       314       316       317       318       319       320       322       323       324       325       326       328       330       332       333       334       336       337       338       343       344       345       346       347       349       350       352       353       354       357       358       359       360       369       372       373       374       375       376       377       378       379       383       384       385       386       389       390       391       392       393       394       395       396       397       402       403       407       409       410       414       419       426       434       435       438       439       440       442       443       448       451       522       523       524       525       530       531       532       533       534       535       536       537       538       539       540       541       542       543       544       545       546       547       548       549       550       551       552       553       554       555       556       557       558       559       560       561       562       563       564       565       566       567       568       569       570       571       572       573       574       575       576       577       578       579       580       581       582       583       584       585       586       587       588       589       590       591       592       593       594       595       596       597       598       599       600       601       602       603       604       605       606       607       608       609       610       611       612       613       614       615       616       617       618       619       620       621       622       623       624       625       626       627       628       629       630       631       632       633       634       635       636       637       638       639       640       641       642       643       644       645       646       647       648       649       650       651       652       653       654       655       656       657       658       659       660       661       662       663       664       665       666       667       668       669       670       671       672       673       674       675       676       677       678       679       680       681       682       683       684       685       686       687       688       689       690       691       692       693       694       695       696       697       698       699       700       701       702       703       704       705       706       707       708       709       710       711       712       713       714       715       716       717       718       719       720       721       722       723       724       725       726       727       728       729       730       731       732       733       734       735       736       737       738       739       740       741       742       743       744       745       746       747       748       749       750       751       752       753       754       755       756       757       758       759       760       761       762       763       764       765       766       767       768       769       770       771       772       773       774       775       776       777       778       779       780       781       782       783       784       785       786       787       788       789       790       791       792       793       794       795       796       797       798       799       800       801       802       803       804       805       806       807       808       809       810       811       812       813       814       815       816       817       818       819       820       821       822       823       824       825       826       827       828       829       830       831       832       833       834       835       836       837       838       839       840       841       842       843       844       845       846       847       848       849       850       851       852       853       854       855       856       857       858       859       860       861       862       863       864       865       866       867       868       869       870       871       872       873       874       875       876       877       878       879       880       881       882       883       884       885       886       887       888       889       890       891       892       893       894       895       896       897       898       899       900       901       902       903       904       905       906       907       908       909       910       911       912       913       914       915       916       917       918       919       920       921       922       923       924       925       926       927       928       929       930       931       932       933       934       935       936       937       938       939       940       941       942       943       944       945       946       947       948       949       950       951       952       953       954       955       956       957       958       959       960       961       962       963       964       965       966       967       968       969       970       971       972       973       974       975       976       977       978       979       980       981       982       983       984       985       986       987       988       989       990       991       992       993       994       995       996       997       998       999      \n",
            "         Values: 1.21      1.21      1.21      1.21      1.21      1.21      1.21      1.21      1.21      1.21      14.65     14.65     14.65     1.21      1.21      40.79     40.79     40.79     33.25     40.79     40.79     40.79     40.79     40.79     40.79     40.79     40.79     40.79     7.36      7.36      40.79     40.79     40.79     40.79     7.36      7.36      7.36      40.79     40.79     40.79     40.79     40.79     40.79     40.79     40.79     40.79     40.79     40.79     40.79     40.79     40.79     40.79     40.79     40.79     40.79     40.79     40.79     40.79     40.79     40.79     40.79     40.79     40.79     40.79     40.79     40.79     40.79     40.79     40.79     40.79     40.79     40.79     40.79     40.79     40.79     40.79     40.79     40.79     40.79     40.79     40.79     40.79     40.79     40.79     40.79     40.79     40.79     40.79     40.79     40.79     40.79     40.79     40.79     40.79     40.79     40.79     1.21      29.96     0.27      0.27      0.27      0.27      7.36      1.21      1.21      1.21      1.21      1.21      1.21      1.21      1.21      0.27      0.27      0.27      0.27      1.21      1.21      1.21      1.21      1.21      1.21      1.21      1.21      1.21      40.79     40.79     40.79     40.79     40.79     40.79     40.79     40.79     40.79     40.79     40.79     40.79     40.79     40.79     40.79     40.79     40.79     5.37      5.37      5.37      5.37      30.1      1.35      1.35      1.35      1.35      1.35      1.35      1.35      1.35      1.35      1.35      1.35      1.35      1.35      1.35      1.35      1.35      1.35      1.35      1.35      1.35      1.35      1.35      1.35      1.35      1.35      1.35      1.35      1.35      1.35      1.35      1.35      1.35      1.35      1.35      1.35      1.35      1.35      1.35      1.35      1.35      1.35      1.35      1.35      1.35      1.35      1.35      1.35      1.35      1.35      1.35      1.35      1.35      1.35      1.35      1.35      1.35      1.35      1.35      1.35      1.35      1.35      1.35      1.35      1.35      1.35      1.35      1.35      1.35      1.35      1.35      1.35      1.35      1.35      1.35      1.35      1.35      1.35      1.35      1.35      1.35      1.35      1.35      1.35      1.35      1.35      1.35      1.35      1.35      1.35      1.35      1.35      1.35      1.35      1.35      1.35      1.35      1.35      1.35      1.35      1.35      1.35      1.35      1.35      1.35      1.35      1.35      1.35      1.35      1.35      1.35      1.35      1.35      1.35      1.35      1.35      1.35      1.35      1.35      1.35      1.35      1.35      1.35      1.35      1.35      1.35      1.35      1.35      1.35      1.35      1.35      1.35      1.35      1.35      1.35      1.35      1.35      1.35      1.35      1.35      1.35      1.35      1.35      1.35      1.35      1.35      1.35      1.35      1.35      1.35      1.35      1.35      1.35      1.35      1.35      1.35      1.35      1.35      1.35      1.35      1.35      1.35      1.35      1.35      1.35      1.35      1.35      1.35      1.35      1.35      1.35      1.35      1.35      1.35      1.35      1.35      1.35      1.35      1.35      1.35      1.35      1.35      1.35      1.35      1.35      1.35      1.35      1.35      1.35      1.35      1.35      1.35      1.35      1.35      1.35      1.35      1.35      1.35      1.35      1.35      1.35      1.35      1.35      1.35      1.35      1.35      1.35      1.35      1.35      1.35      1.35      1.35      1.35      1.35      1.35      1.35      1.35      1.35      1.35      1.35      1.35      1.35      1.35      1.35      1.35      1.35      1.35      1.35      1.35      1.35      1.35      1.35      1.35      1.35      1.35      1.35      1.35      1.35      1.35      1.35      1.35      1.35      1.35      1.35      1.35      1.35      1.35      1.35      1.35      1.35      1.35      1.35      1.35      1.35      1.35      1.35      1.35      1.35      1.35      1.35      1.35      1.35      1.35      1.35      1.35      1.35      1.35      1.35      1.35      1.35      1.35      1.35      1.35      1.35      1.35      1.35      1.35      1.35      1.35      1.35      1.35      1.35      1.35      1.35      1.35      1.35      1.35      1.35      1.35      1.35      1.35      1.35      1.35      1.35      1.35      1.35      1.35      1.35      1.35      1.35      1.35      1.35      1.35      1.35      1.35      1.35      1.35      1.35      1.35      1.35      1.35      1.35      1.35      1.35      1.35      1.35      1.35      1.35      1.35      1.35      1.35      1.35      1.35      1.35      1.35      1.35      1.35      1.35      1.35      1.35      1.35      1.35      1.35      1.35      1.35      1.35      1.35      1.35      1.35      1.35      1.35      1.35      1.35      1.35      1.35      1.35      1.35      1.35      1.35      1.35      1.35      1.35      1.35      1.35      1.35      1.35      1.35      1.35      1.35      1.35      1.35      1.35      1.35      1.35      1.35      1.35      1.35      1.35      1.35      1.35      1.35      1.35      1.35      1.35      1.35      1.35      1.35      1.35      1.35      1.35      1.35      1.35      1.35      1.35      1.35      1.35      1.35      1.35      1.35      1.35      1.35      1.35      1.35      1.35      1.35      1.35      1.35      1.35      1.35      1.35      1.35      1.35      1.35      1.35      1.35      1.35      1.35      1.35      1.35      1.35      1.35      1.35      1.35      1.35      1.35      1.35      1.35      1.35      1.35      1.35      1.35      1.35      1.35      1.35      1.35      1.35      1.35      1.35      1.35      1.35      1.35      1.35      1.35      1.35      1.35      1.35      1.35      1.35      1.35      1.35      1.35      1.35      1.35      1.35      1.35      1.35      1.35      1.35      1.35      1.35      1.35      1.35      1.35      1.35      1.35      1.35      1.35      1.35      1.35      1.35      1.35      1.35      1.35      1.35      1.35      1.35      1.35      1.35      1.35      1.35     \n",
            "     Train2:\n",
            "         Times : 700       701       702       703       704       705       706       707       708       709       710       711       712       713       714       715       716       717       718       719       720       721       722       723       725       726       727       728       729       730       731       732       733       734       735       736       737       738       739       740       741       742       743       744       745       746       747       748       749       750       751       752       753       754       761       762       763       764       765       766       767       768       769       770       771       772       773       774       775       776       777       778       779       780       781       782       783       784       785       786       787       788       789       790       791       792       793       794       795       796       797       798       799       800       801       802       803       804       805       806       807       808       809       810       811       812       813       814       815       816       817       818       819       820       821       822       823       824       825       826       827       828       829       830       831       832       833       834       835       836       837       838       839       840       841       842       843       844       845       846       847       848       849       850       851       852       853       854       855       856       857       858       859       860       861       862       863       864       865       866       867       868       869       870       871       872       873       874       875       876       877       878       879       880       881       882       883       884       885       886       887       888       889       890       891       892       893       894       895       896       897       898       899       900       901       902       903       904       905       906       907       908       909       910       911       912       913       914       915       916       917       918       919       920       921       922       923       924       925       926       927       928       929       930       931       932       933       934       935       936       937       938       939       940       941       942       943       944       945       946       947       948       949       950       951       952       953       954       955       956       957       958       959       960       961       962       963       964       965       966       967       968       969       970       971       972       973       974       975       976       977       978       979       980       981       982       983       984       985       986       987       988       989       990       991       992       993       994       995       996       997       998       999      \n",
            "         Values: 1.35      1.35      1.35      0.42      0.42      0.42      0.42      0.42      1.35      1.35      1.35      1.35      1.35      1.35      1.35      0.42      0.42      0.42      1.35      1.35      1.35      1.35      1.35      7.5       1.35      1.35      1.35      1.35      1.35      1.35      1.35      1.35      1.35      1.35      1.35      1.35      1.35      1.35      1.35      1.35      7.5       7.5       1.35      1.35      1.35      1.35      1.35      1.35      1.35      1.35      1.35      7.5       1.35      1.35      1.35      7.5       7.5       7.5       1.35      1.35      7.5       7.5       1.35      1.35      1.35      1.35      1.35      1.35      1.35      1.35      1.35      1.35      7.5       1.35      1.35      1.35      1.35      1.35      1.35      1.35      1.35      1.35      1.35      1.35      1.35      1.35      1.35      1.35      1.35      1.35      1.35      1.35      1.35      1.35      1.35      1.35      1.35      1.35      1.35      1.35      1.35      1.35      1.35      1.35      1.35      1.35      1.35      1.35      1.35      1.35      1.35      1.35      1.35      1.35      1.35      1.35      1.35      1.35      1.35      1.35      1.35      1.35      1.35      1.35      1.35      1.35      1.35      1.35      1.35      1.35      1.35      1.35      1.35      1.35      1.35      1.35      1.35      1.35      1.35      1.35      1.35      5.15      24.52     24.52     24.52     24.52     24.52     24.52     24.52     24.52     24.52     24.52     24.52     24.52     24.52     24.52     24.52     24.52     24.52     24.52     24.52     24.52     24.52     24.52     24.52     24.52     24.52     24.52     40.94     40.94     40.94     40.94     40.94     40.94     40.94     40.94     40.94     40.94     40.94     40.94     40.94     40.94     40.94     24.52     24.52     24.52     24.52     24.52     24.52     7.5       7.5       7.5       7.5       24.52     24.52     40.94     40.94     40.94     40.94     24.52     7.5       7.5       7.5       7.5       24.52     24.52     24.52     24.52     24.52     24.52     24.52     24.52     24.52     24.52     24.52     24.52     24.52     24.52     24.52     24.52     24.52     24.52     24.52     24.52     37.14     24.52     24.52     24.52     24.52     24.52     24.52     24.52     24.52     24.52     24.52     24.52     24.52     24.52     24.52     24.52     24.52     24.52     24.52     24.52     24.52     24.52     24.52     24.52     24.52     24.52     24.52     40.94     24.52     40.94     40.94     40.94     40.94     40.94     40.94     40.94     40.94     40.94     40.94     40.94     40.94     40.94     40.94     40.94     40.94     40.94     40.94     40.94     40.94     40.94     40.94     40.94     40.94     40.94     40.94     40.94     40.94     40.94     40.94     40.94     40.94     40.94     1.35      30.1      7.5       1.35      0.42      0.42      0.42     \n"
          ]
        }
      ],
      "source": [
        "\"Print the optimal values and solutions\"\n",
        "\n",
        "print(f'===============================================================================')\n",
        "\n",
        "print(f\"Total cost: {round(problem.value, 2)}\")\n",
        "print(f\"Grid Cost: {round(GridCost.value, 2)}\")\n",
        "print(f\"Maintenance Cost: {round(MaintenanceCost.value, 2)}\")\n",
        "print(f\"Investment: {round(Investment.value, 2)}\")\n",
        "\n",
        "print(\"PVcap (Installed capacity of PV at each MG): \")\n",
        "for m, MG in enumerate(MGs):\n",
        "    pv_cap_val = round(PVcap[m].value, 2)\n",
        "    if pv_cap_val > 0:\n",
        "        print(f\"     {MG}: {pv_cap_val}\")\n",
        "    else:\n",
        "        print(f\"     {MG}: No capacity installed\")\n",
        "\n",
        "print(\"MGESScap (Installed capacity of MGESS at each MG): \")\n",
        "for m, MG in enumerate(MGs):\n",
        "    mges_cap_val = round(MGESScap[m].value, 2)\n",
        "    if mges_cap_val > 0:\n",
        "        print(f\"     {MG}: {mges_cap_val}\")\n",
        "    else:\n",
        "        print(f\"     {MG}: No capacity installed\")\n",
        "\n",
        "# Display MGESS installation status\n",
        "# print(\"MGESSinstall (Installation status of MGESS at each MG): \")\n",
        "# for m, MG in enumerate(MGs):\n",
        "#     print(f\"     {MG}: {'Installed' if MGESSinstall[m].value > 0 else 'Not Installed'}\")\n",
        "\n",
        "# Helper function to display non-zero entries with aligned format\n",
        "def display_nonzero_matrix(matrix, label, ids):\n",
        "    all_zero = True  # Flag to check if entire matrix is zero\n",
        "    for i, ID in enumerate(ids):\n",
        "        # Find non-zero time indices and their values\n",
        "        non_zero_times = [t for t in range(matrix.shape[1]) if matrix[i, t].value != 0]\n",
        "        if non_zero_times:\n",
        "            all_zero = False\n",
        "            non_zero_values = [round(matrix[i, t].value, 2) for t in non_zero_times]\n",
        "\n",
        "            # Format strings for alignment\n",
        "            times_str = \" \".join(f\"{str(t):<9}\" for t in non_zero_times)  # Left-align with 9 spaces per entry\n",
        "            values_str = \" \".join(f\"{str(v):<9}\" for v in non_zero_values)  # Match space for values\n",
        "\n",
        "            print(f\"     {ID}:\")\n",
        "            print(f\"         Times : {times_str}\")\n",
        "            print(f\"         Values: {values_str}\")\n",
        "    if all_zero:\n",
        "        print(\"     All entries are zero\")\n",
        "\n",
        "# Display matrices with pairs for MGs and trains\n",
        "mg_train_pairs = [(MG, train) for MG in MGs for train in trains]\n",
        "print(\"PV2Train (PV energy supplied to trains at each MG):\")\n",
        "display_nonzero_matrix(PV2Train, \"PV2Train\", [f\"{MG}-{train}\" for MG, train in mg_train_pairs])\n",
        "\n",
        "print(\"GRID2Train (Grid energy supplied to trains at each MG):\")\n",
        "display_nonzero_matrix(GRID2Train, \"GRID2Train\", [f\"{MG}-{train}\" for MG, train in mg_train_pairs])\n",
        "\n",
        "print(\"MGESS2Train (MGESS energy supplied to trains at each MG):\")\n",
        "display_nonzero_matrix(MGESS2Train, \"MGESS2Train\", [f\"{MG}-{train}\" for MG, train in mg_train_pairs])\n",
        "\n",
        "print(\"MG2TrainESS (Energy transferred from MG to Train ESS at each MG):\")\n",
        "display_nonzero_matrix(MG2TrainESS, \"MG2TrainESS\", [f\"{MG}-{train}\" for MG, train in mg_train_pairs])\n",
        "\n",
        "# Display state of charge for Train ESS (only train ID) and MGESS (only MG ID)\n",
        "print(\"TrainESSsoc (SoC of Train ESS):\")\n",
        "display_nonzero_matrix(TrainESSsoc, \"TrainESSsoc\", trains)\n",
        "\n",
        "print(\"MGESSsoc (SoC of MGESS at each MG):\")\n",
        "display_nonzero_matrix(MGESSsoc, \"MGESSsoc\", MGs)\n",
        "\n",
        "print(\"TrainESS2TrainLoad (Energy from Train ESS to Train Load):\")\n",
        "display_nonzero_matrix(TrainESS2TrainLoad, \"TrainESS2TrainLoad\", trains)"
      ]
    }
  ],
  "metadata": {
    "colab": {
      "collapsed_sections": [
        "tIpdU0pFMPEx",
        "G9neglQGoX03",
        "gjN3OxQToRLK"
      ],
      "provenance": [],
      "mount_file_id": "11oNmxIEH2m8mQu2Pw-aIfbU-kbWSYAxq",
      "authorship_tag": "ABX9TyMreaSM1dnCuIvI2O55+FnR",
      "include_colab_link": true
    },
    "kernelspec": {
      "display_name": "Python 3",
      "name": "python3"
    },
    "language_info": {
      "name": "python"
    }
  },
  "nbformat": 4,
  "nbformat_minor": 0
}