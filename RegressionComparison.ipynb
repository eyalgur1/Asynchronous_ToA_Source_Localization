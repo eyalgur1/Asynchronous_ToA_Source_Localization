{
  "nbformat": 4,
  "nbformat_minor": 0,
  "metadata": {
    "colab": {
      "provenance": [],
      "collapsed_sections": [
        "6yyNo_ZWF8FO"
      ],
      "authorship_tag": "ABX9TyOQkVbiJg1BOtvHmq4k436a",
      "include_colab_link": true
    },
    "kernelspec": {
      "name": "python3",
      "display_name": "Python 3"
    },
    "language_info": {
      "name": "python"
    }
  },
  "cells": [
    {
      "cell_type": "markdown",
      "metadata": {
        "id": "view-in-github",
        "colab_type": "text"
      },
      "source": [
        "<a href=\"https://colab.research.google.com/github/eyalgur1/Asynchronous_ToA_Source_Localization/blob/main/RegressionComparison.ipynb\" target=\"_parent\"><img src=\"https://colab.research.google.com/assets/colab-badge.svg\" alt=\"Open In Colab\"/></a>"
      ]
    },
    {
      "cell_type": "markdown",
      "source": [
        "## **Packages and Data Generation**🚫"
      ],
      "metadata": {
        "id": "6yyNo_ZWF8FO"
      }
    },
    {
      "cell_type": "code",
      "execution_count": 9,
      "metadata": {
        "id": "nyEFhLyrVFWh"
      },
      "outputs": [],
      "source": [
        "#@title **Import Packages**🚫\n",
        "import numpy as np\n",
        "import pandas as pd\n",
        "import matplotlib.pyplot as plt\n",
        "import cvxpy as cvx\n",
        "from IPython.display import Latex\n",
        "import sklearn\n",
        "import sklearn.ensemble\n",
        "import sklearn.tree\n",
        "from sklearn.model_selection import train_test_split\n",
        "from sklearn.metrics import mean_squared_error\n",
        "import torch\n",
        "import torch.nn as nn\n",
        "import xgboost as xgb\n",
        "import importlib\n",
        "\n",
        "#from google.colab import drive\n",
        "#drive.mount(\"/content/drive/\")"
      ]
    },
    {
      "cell_type": "code",
      "source": [
        "#@title **Functions for Generation of Tabular Data**🚫\n",
        "#@markdown We assume all features in the dataset are numeric. Otherwise, non-numeric features (columns) should be removed or tranformed to numeric.\n",
        "\n",
        "\n",
        "def createTabularData(features, target, scaler, val_per, test_per):\n",
        "    # Input:\n",
        "    # features: a numerical array of column features\n",
        "    # target: a numerical array of target labels\n",
        "    # scaler: a string with 'minmax' or 'standard' data scaler\n",
        "    # Output:\n",
        "    # dataset: dictionary with 6 items: feature_train/val/test and target_train/val/test\n",
        "\n",
        "\n",
        "    # Remove all rows with missing values (hence, it assumes that the data is highly non-sparse)\n",
        "    # The command '~np.isnan(housing['data']).any(axis=1)' returns an array of True/False according to rows without NaN (checks all columns in each row)\n",
        "    noNaN = ~np.isnan(features).any(axis=1)\n",
        "    X = features[noNaN,:]  # set of features\n",
        "    y = target[noNaN].reshape(-1,1)  # remove all corresponding rows from the target variable\n",
        "\n",
        "\n",
        "    # Split to train/validation/test sets (before preprocessing)\n",
        "    X_train_pre, X_remain, y_train_pre, y_remain = train_test_split(X, y, test_size=val_per+test_per, random_state=1)  # split and fix the seed\n",
        "    X_val_pre, X_test_pre, y_val_pre, y_test_pre = train_test_split(X_remain, y_remain, test_size=test_per/(val_per+test_per), random_state=1)\n",
        "\n",
        "\n",
        "    # Initialize scalers to normalize the data to have the same scale\n",
        "    if scaler.lower() in ['minmax']:\n",
        "        scaler_X = sklearn.preprocessing.MinMaxScaler()  # initializes a scaler that scales any column to [0,1] (column-wise)\n",
        "        scaler_y = sklearn.preprocessing.MinMaxScaler()  # scaler for y\n",
        "    elif scaler.lower() in ['standard']:\n",
        "        scaler_X = sklearn.preprocessing.StandardScaler()  # initializes a scaler by removing the mean and scaling to unit variance (column-wise)\n",
        "        scaler_y = sklearn.preprocessing.StandardScaler()  # scaler for y\n",
        "    else:\n",
        "        raise ValueError(\"No scaler named '\"+scaler.lower()+\"'. Set scaler='minmax' or scaler='standard'.\")\n",
        "\n",
        "\n",
        "    # Scale the data according to the training set\n",
        "    # Tranforms that data according to the limits already set by the training set\n",
        "    X_train = scaler_X.fit_transform(X_train_pre)\n",
        "    X_val, X_test = (scaler_X.transform(X_val_pre), scaler_X.transform(X_test_pre))\n",
        "    y_train = scaler_y.fit_transform(y_train_pre)\n",
        "    y_val, y_test = (scaler_y.transform(y_val_pre), scaler_y.transform(y_test_pre))\n",
        "\n",
        "\n",
        "    tabular_train_dataset = dict(feature_train = X_train, target_train = y_train)\n",
        "    tabular_val_dataset = dict(feature_val = X_val, target_val = y_val)\n",
        "    tabular_test_dataset = dict(feature_test = X_test, target_test = y_test)\n",
        "    inverse_scalers = dict(inv_feature_scale = scaler_X.inverse_transform,\n",
        "                           inv_target_scale = scaler_y.inverse_transform)\n",
        "    return tabular_train_dataset, tabular_val_dataset, tabular_test_dataset, inverse_scalers\n",
        "\n",
        "\n",
        "# Auxiliary function for dynamic data import by the user\n",
        "def dynamic_import(module_name: str, object_name: str):\n",
        "    # Import the module dynamically\n",
        "    module = importlib.import_module(module_name)\n",
        "\n",
        "    # Import the specific object from the module\n",
        "    imported_object = getattr(module, object_name)\n",
        "\n",
        "    return imported_object"
      ],
      "metadata": {
        "id": "kpviYl1uJSBc"
      },
      "execution_count": 10,
      "outputs": []
    },
    {
      "cell_type": "markdown",
      "source": [
        "## **Implementation of Regressors**🚫"
      ],
      "metadata": {
        "id": "ryeDkNXnFehn"
      }
    },
    {
      "cell_type": "code",
      "source": [
        "#@title **Functions for Instantiation of Regressors**🚫\n",
        "#@markdown For the regression task, we use the following six regressors: Decision Tree, Bagged Trees, Random Forest, Gradient Boosting, Linear Regression, and Neural Network.\n",
        "\"Decision Tree\"\n",
        "# Decision tree regressor: predicts the value of a target variable by learning simple (if-then-else) decision rules.\n",
        "# A tree can be seen as a piecewise constant approximation.\n",
        "def decisionTreeReg(max_depth):\n",
        "    return sklearn.tree.DecisionTreeRegressor(max_depth=max_depth)\n",
        "\n",
        "\n",
        "\"Bagged Trees\"\n",
        "# Bagging regressor: fits base regressors each on random subsets of the original dataset,\n",
        "# and then aggregates their individual predictions (by averaging) to form a final prediction.\n",
        "# Reduces the variance of an estimator by introducing randomization.\n",
        "# This implementaion considers all dataset (hence, just shuffles the data for each tree).\n",
        "def baggedTreesReg(n_estimators, max_depth):\n",
        "    return sklearn.ensemble.BaggingRegressor(estimator=sklearn.tree.DecisionTreeRegressor(max_depth=max_depth),\n",
        "                                         n_estimators=n_estimators, verbose = 1,\n",
        "                                         warm_start = True)\n",
        "\n",
        "\n",
        "\"Random Forest\"\n",
        "# Random forest regressor: fits a number of decision tree regressors on (possibly various random sub-samples of) the dataset,\n",
        "# by randomly selecting a sub-set of the features at each split,\n",
        "# and averages to improve the predictive accuracy and control over-fitting.\n",
        "# Equivalent to Bagged Trees if selecting all features at each split.\n",
        "# This implementaion considers all dataset (hence, just shuffles the data for each tree).\n",
        "def randomForestReg(n_estimators, max_depth):\n",
        "    return sklearn.ensemble.RandomForestRegressor(n_estimators=n_estimators, max_depth=max_depth, max_features = \"sqrt\")\n",
        "\n",
        "\n",
        "\"Gradient Boosting\"\n",
        "# Gradient boosting regressor: a functional gradient descent on fitted trees,\n",
        "# where at iteration we fit a tree using the previous fits as a \"descent direction\".\n",
        "# Here we use XGBoost as an API for sklearn.\n",
        "#def gradBoostReg(n_estimators, max_depth, lr):\n",
        " #   return xgb.XGBRegressor(objective='reg:squarederror', n_estimators=n_estimators,\n",
        "  #                               learning_rate=lr, max_depth=max_depth, eval_metric=['rmse'])\n",
        "\n",
        "\n",
        "\"Linear Regression\"\n",
        "# Linear regressor: a simple l2-regression with exact solution.\n",
        "# Using a polynomial linear regression for multi-feature setting is expensive,\n",
        "# as the Vandermonde matrix is too large for accurate inversion even when the poly degree is small.\n",
        "# For a polynomial linear regression, one can use gradient descent.\n",
        "def linearReg(intercept=False):\n",
        "    def leastSqaures(A, b):\n",
        "        if ~intercept:  # if intercept is not required\n",
        "            A = np.append(np.ones((A.shape[0], 1)), A, 1)  # append column of ones for free coefficient (Vendermonde)\n",
        "        AT = np.transpose(A)\n",
        "        return 0.5*np.linalg.inv(AT@A)@AT@b  # return least squares solution\n",
        "    return leastSqaures\n",
        "\n",
        "\n",
        "\"Neuarl Network\"\n",
        "# Neural network regressor: a simple regression PyTorch net with one hidden layer.\n",
        "# The activation function is ReLU, optimizer is Adam, loss is MSELoss, and lr is given by the user.\n",
        "# This function returns the model, criterion (loss), and the optimizer.\n",
        "def neuralNetReg(input_dim, hidden_dim, output_dim, lr):\n",
        "\n",
        "    class SimpleRegressionModel(nn.Module):\n",
        "        def __init__(self, input_dim, hidden_dim, output_dim):\n",
        "            super(SimpleRegressionModel, self).__init__()\n",
        "            self.hidden = nn.Linear(input_dim, hidden_dim)\n",
        "            self.relu = nn.ReLU()\n",
        "            self.output = nn.Linear(hidden_dim, output_dim)\n",
        "\n",
        "        def forward(self, x):\n",
        "            x = self.hidden(x)\n",
        "            x = self.relu(x)\n",
        "            x = self.output(x)\n",
        "\n",
        "    model = SimpleRegressionModel(input_dim, hidden_dim, output_dim)\n",
        "    criterion = nn.MSELoss()\n",
        "    optimizer = torch.optim.Adam(model.parameters(), lr=lr)\n",
        "    return model, criterion, optimizer"
      ],
      "metadata": {
        "id": "Zfgtqzq5oqI1"
      },
      "execution_count": 4,
      "outputs": []
    },
    {
      "cell_type": "code",
      "source": [
        "#@title *Gradient Boosting Trainer*\n",
        "def gradBoostRegTrain(data_train, data_val, num_epochs, n_estimators, lr, max_depth):\n",
        "\n",
        "    gradBoost = xgb.XGBRegressor(objective='reg:squarederror', n_estimators = n_estimators,\n",
        "                                 learning_rate = lr, max_depth = max_depth, eval_metric = ['rmse'])\n",
        "\n",
        "    X_train = data_train['feature_train'];  y_train = data_train['target_train']\n",
        "    eval_set = [(X_train, y_train), (data_val['feature_val'], data_val['target_val'])]\n",
        "    verbosity = gradBoost.n_estimators\n",
        "    results = {'train_mse':np.array([]), 'val_mse':np.array([])}\n",
        "\n",
        "    print(\"\\033[4mGradient Boosting Regressor Training\\033[0m\", '\\n')\n",
        "    print(\"Notice: validation_0=Training Set, validation_1=Validation Set\", '\\n')\n",
        "\n",
        "\n",
        "    # Training loop\n",
        "    for epoch in range(num_epochs):\n",
        "        print('Epoch ', str(epoch+1), '/', str(num_epochs))\n",
        "        if epoch == 0:  # first epoch\n",
        "            gradBoost.fit(X_train, y_train, eval_set=eval_set, verbose=verbosity)\n",
        "            # eval_set: the data on which to track metric evaluation; can also be set as eval_set=[(X_train, y_train)]; eval_set is not used for training\n",
        "            # verbose: integer specifying the intervals of trees to specify metrics for (out of n_estimators in total)\n",
        "        else:\n",
        "            gradBoost.fit(X_train, y_train, eval_set=eval_set, verbose=verbosity, xgb_model=gradBoost.get_booster())\n",
        "            # after the first epoch, we use the previous fitted model as starting point with the command xgb_model=xgb_model.get_booster()\n",
        "\n",
        "\n",
        "        # Save MSE for later plotting\n",
        "\n",
        "        results_epoch = gradBoost.evals_result()\n",
        "        results['train_mse'] = np.append(results['train_mse'], np.array(results_epoch['validation_0']['rmse'])**2)\n",
        "        results['valid_mse'] = np.append(results['valid_mse'], np.array(results_epoch['validation_1']['rmse'])**2)\n",
        "\n",
        "    return gradBoost, results"
      ],
      "metadata": {
        "cellView": "form",
        "id": "5MDLE_nR9Uv0"
      },
      "execution_count": 5,
      "outputs": []
    },
    {
      "cell_type": "code",
      "source": [
        "#@title *Bagged Trees Trainer*\n",
        "\n",
        "def baggedTreesRegTrain(data_train, data_val, num_epochs, max_depth, n_estimators):\n",
        "\n",
        "    X_train = data_train['feature_train'];  y_train = data_train['target_train'].ravel()\n",
        "    X_val = data_val['feature_val']; y_val = data_val['target_val']\n",
        "    trees_per_epoch = n_estimators // num_epochs\n",
        "    results = {'train_mse':np.array([]), 'val_mse':np.array([])}\n",
        "\n",
        "    baggedTrees = sklearn.ensemble.BaggingRegressor(estimator=sklearn.tree.DecisionTreeRegressor(max_depth=max_depth),\n",
        "                                         n_estimators = trees_per_epoch, verbose = 1,\n",
        "                                         warm_start = True)\n",
        "\n",
        "    print(\"\\033[4mBagged Trees Regressor Training\\033[0m\", '\\n')\n",
        "\n",
        "\n",
        "    # Training loop\n",
        "    for epoch in range(num_epochs):\n",
        "        print('Epoch', str(epoch+1), '/', str(num_epochs), '|| #estimators:', baggedTrees.n_estimators)\n",
        "        baggedTrees.fit(X_train, y_train)\n",
        "\n",
        "        y_epoch_train = baggedTrees.predict(X_train); mse_train = mean_squared_error(y_train, y_epoch_train)\n",
        "        y_epoch_val = baggedTrees.predict(X_val); mse_val = mean_squared_error(y_val, y_epoch_val)\n",
        "        print('Training MSE: ', mse_train, '| Validation MSE: ', mse_val, '\\n')\n",
        "\n",
        "        # Save MSE for later plotting\n",
        "        results['train_mse'] = np.append(results['train_mse'], mse_train)\n",
        "        results['val_mse'] = np.append(results['val_mse'], mse_val)\n",
        "\n",
        "        baggedTrees.n_estimators += trees_per_epoch\n",
        "\n",
        "    return baggedTrees, results\n",
        "baggedTrees, results = baggedTreesRegTrain(data_train, data_val, num_epochs, max_depth_BT, n_estimators_BT)"
      ],
      "metadata": {
        "colab": {
          "base_uri": "https://localhost:8080/"
        },
        "id": "yHnIxG25HBG-",
        "outputId": "216fb907-b4f1-4bf9-cdd4-aca4095a2daf"
      },
      "execution_count": 31,
      "outputs": [
        {
          "output_type": "stream",
          "name": "stdout",
          "text": [
            "\u001b[4mBagged Trees Regressor Training\u001b[0m \n",
            "\n",
            "Epoch 1 / 2 || #estimators: 50\n",
            "Training MSE:  0.018192175347073323 | Validation MSE:  0.019596169964904077 \n",
            "\n",
            "Epoch 2 / 2 || #estimators: 100\n",
            "Training MSE:  0.0181595773260047 | Validation MSE:  0.019577471291712625 \n",
            "\n"
          ]
        }
      ]
    },
    {
      "cell_type": "code",
      "source": [
        "# @title **Generate Tabular Dataset**👇\n",
        "\n",
        "\n",
        "# @markdown Set the percentage of the validation and test sets out of the complete data (the remainder is the training set).\n",
        "val_per = 0.1 # @param {type:\"number\"}\n",
        "test_per = 0.1 # @param {type:\"number\"}\n",
        "\n",
        "# @markdown Set data scaler type (\"minmax\" or \"standard\")\n",
        "scaler = 'minmax' # @param {type:\"string\"}\n",
        "\n",
        "# @markdown Enter an object name for data import from the module \"sklearn.datasets\"\n",
        "module_name = \"sklearn.datasets\"\n",
        "object_name = \"fetch_california_housing\" # @param {type:\"string\"}\n",
        "dataset_object = dynamic_import(module_name, object_name)\n",
        "raw_dataset = dataset_object()  # each row is the average of several houses in one block\n",
        "\n",
        "\n",
        "# Create a tabular numeric dataset (clean and scale)\n",
        "data_train, data_val, data_test, inverse_scalers = createTabularData(features=raw_dataset['data'], target=raw_dataset['target'],\n",
        "                                             scaler=scaler,\n",
        "                                             val_per=val_per, test_per=test_per)"
      ],
      "metadata": {
        "cellView": "form",
        "id": "CQJlynFBWD77"
      },
      "execution_count": 11,
      "outputs": []
    },
    {
      "cell_type": "markdown",
      "source": [
        "# Training the Models"
      ],
      "metadata": {
        "id": "ABF_CzPR3YGx"
      }
    },
    {
      "cell_type": "code",
      "source": [
        "#@title **Set Hyperparameters**👇\n",
        "#@markdown Number of epochs (for all methods):\n",
        "#@markdown ---\n",
        "\n",
        "\n",
        "num_epochs = 2 # @param {type:\"integer\"}\n",
        "#@markdown ---\n",
        "#@markdown Choose regressors and set their hyperparameters:\n",
        "#@markdown ---\n",
        "decision_tree = True # @param {type:\"boolean\"}\n",
        "max_depth_DT = 5 # @param {type:\"integer\"}\n",
        "#@markdown ---\n",
        "bagged_trees = True # @param {type:\"boolean\"}\n",
        "n_estimators_BT = 100 # @param {type:\"integer\"}\n",
        "max_depth_BT = 5 # @param {type:\"integer\"}\n",
        "#@markdown ---\n",
        "random_forest = True # @param {type:\"boolean\"}\n",
        "n_estimators_RF = 100 # @param {type:\"integer\"}\n",
        "max_depth_RF = 5 # @param {type:\"integer\"}\n",
        "#@markdown ---\n",
        "gradient_boosting = True # @param {type:\"boolean\"}\n",
        "n_estimators_GB = 100 # @param {type:\"integer\"}\n",
        "max_depth_GB = 5 # @param {type:\"integer\"}\n",
        "lr_GB = 0.1 # @param {type:\"number\"}\n",
        "#@markdown ---\n",
        "linear_regression = True # @param {type:\"boolean\"}\n",
        "#@markdown ---\n",
        "neural_network = True # @param {type:\"boolean\"}\n",
        "hidden_dim_NN = 10 # @param {type:\"integer\"}\n",
        "lr_NN = 0.01 # @param {type:\"number\"}"
      ],
      "metadata": {
        "cellView": "form",
        "id": "DC6AHXBm3XnI"
      },
      "execution_count": 13,
      "outputs": []
    },
    {
      "cell_type": "code",
      "source": [
        "gradBoost, results_GB = gradBoostRegTrain(data_train=data_train, data_val=data_val, num_epochs=num_epochs, n_estimators=n_estimators_GB, lr=lr_GB, max_depth=max_depth_GB)\n",
        "\n",
        "\n",
        "# Make predictions on the test set\n",
        "X_test = dataset_test['feature_test']; y_test = dataset_test['target_test']\n",
        "y_pred_GB = gradBoost.predict(X_test).reshape(-1,1)\n",
        "mse_test = skl.metrics.mean_squared_error(y_test, y_pred)  # for plotting\n",
        "\n",
        "\n",
        "# Evaluate the model's performance (transform back to terms of original prices)\n",
        "mse_test_price = skl.metrics.mean_squared_error(inv_y_scale(y_test), inv_y_scale(y_pred))\n",
        "print('\\n\\n','Test MSE in terms of original prices: ', mse_test_price)"
      ],
      "metadata": {
        "colab": {
          "base_uri": "https://localhost:8080/"
        },
        "id": "kGXmCIjWeRaq",
        "outputId": "07ba000a-fc26-4301-d287-93abe828dc89"
      },
      "execution_count": 101,
      "outputs": [
        {
          "output_type": "stream",
          "name": "stdout",
          "text": [
            "\u001b[4mGradient Boosting Regressor Training\u001b[0m \n",
            "\n",
            "Notice: validation_0=Training Set, validation_1=Validation Set \n",
            "\n",
            "Epoch  1 / 2\n",
            "[0]\tvalidation_0-rmse:0.22346\tvalidation_1-rmse:0.22166\n",
            "[99]\tvalidation_0-rmse:0.08609\tvalidation_1-rmse:0.09927\n",
            "Epoch  2 / 2\n",
            "[0]\tvalidation_0-rmse:0.08596\tvalidation_1-rmse:0.09924\n",
            "[99]\tvalidation_0-rmse:0.07523\tvalidation_1-rmse:0.09410\n",
            "\n",
            "\n",
            " Test MSE in terms of original prices:  0.22299793136450524\n"
          ]
        }
      ]
    },
    {
      "cell_type": "code",
      "source": [
        "\"Plot Metrics\"\n",
        "\n",
        "fig, ax = plt.subplots(1,1,figsize=(10, 3))\n",
        "ax.semilogy(results['train_mse']**2)  # the training set\n",
        "plt.semilogy(results['valid_mse']**2)  # the validation set\n",
        "plt.title('MSE')\n",
        "plt.xlabel('Number of Trees')\n",
        "plt.legend(['Training set','Validation set'])\n",
        "plt.xlim([0,100*num_epochs])\n",
        "\n",
        "plt.semilogy(np.ones((100*num_epochs,1))*mse_test)\n",
        "plt.legend(['Training set','Validation set','Test output'])\n",
        "plt.show()"
      ],
      "metadata": {
        "colab": {
          "base_uri": "https://localhost:8080/",
          "height": 333
        },
        "id": "ew9oo_vzbvpx",
        "outputId": "df25fd3c-7c83-4407-ef58-0479bed709b9"
      },
      "execution_count": 52,
      "outputs": [
        {
          "output_type": "display_data",
          "data": {
            "text/plain": [
              "<Figure size 1000x300 with 1 Axes>"
            ],
            "image/png": "[encoded data removed]"
          },
          "metadata": {}
        }
      ]
    }
  ]
}